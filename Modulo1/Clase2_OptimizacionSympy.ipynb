{
 "cells": [
  {
   "cell_type": "markdown",
   "metadata": {},
   "source": [
    "# Optimización de funciones escalares diferenciables con `SymPy`\n",
    "\n",
    "<img style=\"float: right; margin: 0px 0px 15px 15px;\" src=\"https://upload.wikimedia.org/wikipedia/commons/thumb/b/b6/Extrema_example_es.svg/1200px-Extrema_example_es.svg.png\" width=\"300px\" height=\"100px\" />\n",
    "\n",
    "> - Mediante optimización se obtienen soluciones elegantes tanto en teoría como en ciertas aplicaciones. \n",
    "> - La teoría de optimización usa elementos comenzando con cálculo elemental y álgebra lineal básica, y luego se extiende con análisis funcional y convexo.\n",
    "> - Las aplicaciones en optimización involucran ciencia, ingeniería, economía, finanzas e industria.\n",
    "> - El amplio y creciente uso de la optimización lo hace escencial para estudiantes y profesionales de cualquier rama de la ciencia y la tecnología.\n",
    "\n",
    "**Referencia:**\n",
    "- http://www.math.uwaterloo.ca/~hwolkowi//henry/reports/talks.d/t06talks.d/06msribirs.d/optimportance.shtml"
   ]
  },
  {
   "cell_type": "markdown",
   "metadata": {},
   "source": [
    "<img style=\"float: right; margin: 0px 0px 15px 15px;\" src=\"https://upload.wikimedia.org/wikipedia/commons/thumb/e/e7/OpenStreetMap_routing_service.png/300px-OpenStreetMap_routing_service.png\" width=\"300px\" height=\"100px\" />\n",
    "\n",
    "Algunas aplicaciones son:\n",
    "\n",
    "1. Ingeniería\n",
    " - Encontrar la composición de equilibrio de una mezcla de diferentes átomos.\n",
    " - Planeación de ruta para un robot (o vehículo aéreo no tripulado).\n",
    " - Planeación de la mano de obra óptima en una construcción o planta de producción.\n",
    "2. Distribución óptima de recursos.\n",
    " - Distribución de rutas de vuelo.\n",
    " - Encontrar una dieta óptima.\n",
    " - Planeación de ruta óptima.\n",
    "3. Optimización financiera\n",
    " - Administración de riesgos.\n",
    " - Portafolios de inversión."
   ]
  },
  {
   "cell_type": "markdown",
   "metadata": {},
   "source": [
    "En esta clase veremos aspectos básicos de optimización. En específico, veremos cómo obtener máximos y mínimos de una función escalar de una variable (como en cálculo diferencial)."
   ]
  },
  {
   "cell_type": "markdown",
   "metadata": {},
   "source": [
    "___\n",
    "## 0. Librerías que usaremos\n",
    "\n",
    "Como ya dijimos en la primer clase `python` es el lenguaje de programación (el cual es de alto nivel). Sin embargo, `python` solo tiene unos pocos comandos primitivos y para hacer más fácil su uso en nuestras actividades de simulación en ingeniería, otras personas ya han escrito ciertas librerías por nosotros."
   ]
  },
  {
   "cell_type": "markdown",
   "metadata": {},
   "source": [
    "### 0.1 `NumPy`\n",
    "\n",
    "<img style=\"float: right; margin: 0px 0px 15px 15px;\" src=\"data:image/png;base64,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\" width=\"300px\" height=\"100px\" />\n",
    "\n",
    "`NumPy` (Numerical Python) es la librería fundamental para computación científica (numérica) con `Python`. Contiene, entre otras cosas:\n",
    "- un objeto tipo arreglo N-dimensional muy poderoso\n",
    "- funciones sofisticadas\n",
    "- funciones de álgebra lineal, transformada de Fourier y números aleatorios.\n",
    "\n",
    "Por lo anterior, `NumPy` es de amplio uso entre la comunidad científica e ingenieril (por su manejo de cantidades vectoriales). De la misma manera, se usa para guardar datos. Para nuestros propósitos, se puede usar libremente.\n",
    "\n",
    "**Referencia:**\n",
    "- http://www.numpy.org/"
   ]
  },
  {
   "cell_type": "markdown",
   "metadata": {},
   "source": [
    "`NumPy` ya viene incluido en la instalación estándar de Anaconda por defecto. Para comenzar a usarlo, solo debemos de importarlo:"
   ]
  },
  {
   "cell_type": "code",
   "execution_count": 8,
   "metadata": {},
   "outputs": [],
   "source": [
    "# importar la librería numpy\n",
    "import numpy as np"
   ]
  },
  {
   "cell_type": "code",
   "execution_count": 9,
   "metadata": {},
   "outputs": [
    {
     "data": {
      "text/plain": [
       "array([ 0. ,  7. ,  8.4, -3.5,  2. ])"
      ]
     },
     "execution_count": 9,
     "metadata": {},
     "output_type": "execute_result"
    }
   ],
   "source": [
    "# Creamos un vector\n",
    "x = np.array([0, 7, 8.4, -3.5, 2])\n",
    "x"
   ]
  },
  {
   "cell_type": "code",
   "execution_count": 10,
   "metadata": {},
   "outputs": [
    {
     "data": {
      "text/plain": [
       "array([0.        , 0.6569866 , 0.85459891, 0.35078323, 0.90929743])"
      ]
     },
     "execution_count": 10,
     "metadata": {},
     "output_type": "execute_result"
    }
   ],
   "source": [
    "# Función seno sobre los elementos de vector x\n",
    "np.sin(x)"
   ]
  },
  {
   "cell_type": "markdown",
   "metadata": {},
   "source": [
    "$$\n",
    "\\int e^x dx = e^x +C\n",
    "$$"
   ]
  },
  {
   "cell_type": "markdown",
   "metadata": {},
   "source": [
    "$$\n",
    "\\int_{1}^{2} e^{x^2} dx\n",
    "$$"
   ]
  },
  {
   "cell_type": "markdown",
   "metadata": {},
   "source": [
    "### 0.2 `SymPy`\n",
    "\n",
    "<img style=\"float: right; margin: 0px 0px 15px 15px;\" src=\"http://www.sympy.org/static/images/logo.png\" width=\"300px\" height=\"100px\" />\n",
    "\n",
    "`SymPy` (Symbolic Python) es una librería de `Python` para matemáticas simbólicas. Su objetivo es convertirse en un sistema de álgebra computacional con las mejores características, manteniendo el código lo más simple posible para que sea comprensible.\n",
    "\n",
    "**Referencia:**\n",
    "- http://www.sympy.org/en/index.html"
   ]
  },
  {
   "cell_type": "markdown",
   "metadata": {},
   "source": [
    "`SymPy` ya viene incluido en la instalación estándar de Anaconda por defecto. Para comenzar a usarlo, solo debemos de importarlo:"
   ]
  },
  {
   "cell_type": "code",
   "execution_count": 11,
   "metadata": {},
   "outputs": [],
   "source": [
    "# importar la librería sympy\n",
    "import sympy as sym"
   ]
  },
  {
   "cell_type": "code",
   "execution_count": 12,
   "metadata": {},
   "outputs": [
    {
     "name": "stdout",
     "output_type": "stream",
     "text": [
      "Help on function init_printing in module sympy.interactive.printing:\n",
      "\n",
      "init_printing(pretty_print=True, order=None, use_unicode=None, use_latex=None, wrap_line=None, num_columns=None, no_global=False, ip=None, euler=False, forecolor=None, backcolor='Transparent', fontsize='10pt', latex_mode='plain', print_builtin=True, str_printer=None, pretty_printer=None, latex_printer=None, scale=1.0, **settings)\n",
      "    Initializes pretty-printer depending on the environment.\n",
      "    \n",
      "    Parameters\n",
      "    ==========\n",
      "    \n",
      "    pretty_print : boolean, default=True\n",
      "        If True, use pretty_print to stringify or the provided pretty\n",
      "        printer; if False, use sstrrepr to stringify or the provided string\n",
      "        printer.\n",
      "    order : string or None, default='lex'\n",
      "        There are a few different settings for this parameter:\n",
      "        lex (default), which is lexographic order;\n",
      "        grlex, which is graded lexographic order;\n",
      "        grevlex, which is reversed graded lexographic order;\n",
      "        old, which is used for compatibility reasons and for long expressions;\n",
      "        None, which sets it to lex.\n",
      "    use_unicode : boolean or None, default=None\n",
      "        If True, use unicode characters;\n",
      "        if False, do not use unicode characters;\n",
      "        if None, make a guess based on the environment.\n",
      "    use_latex : string, boolean, or None, default=None\n",
      "        If True, use default LaTeX rendering in GUI interfaces (png and\n",
      "        mathjax);\n",
      "        if False, do not use LaTeX rendering;\n",
      "        if None, make a guess based on the environment;\n",
      "        if 'png', enable latex rendering with an external latex compiler,\n",
      "        falling back to matplotlib if external compilation fails;\n",
      "        if 'matplotlib', enable LaTeX rendering with matplotlib;\n",
      "        if 'mathjax', enable LaTeX text generation, for example MathJax\n",
      "        rendering in IPython notebook or text rendering in LaTeX documents;\n",
      "        if 'svg', enable LaTeX rendering with an external latex compiler,\n",
      "        no fallback\n",
      "    wrap_line : boolean\n",
      "        If True, lines will wrap at the end; if False, they will not wrap\n",
      "        but continue as one line. This is only relevant if ``pretty_print`` is\n",
      "        True.\n",
      "    num_columns : int or None, default=None\n",
      "        If int, number of columns before wrapping is set to num_columns; if\n",
      "        None, number of columns before wrapping is set to terminal width.\n",
      "        This is only relevant if ``pretty_print`` is True.\n",
      "    no_global : boolean, default=False\n",
      "        If True, the settings become system wide;\n",
      "        if False, use just for this console/session.\n",
      "    ip : An interactive console\n",
      "        This can either be an instance of IPython,\n",
      "        or a class that derives from code.InteractiveConsole.\n",
      "    euler : boolean, optional, default=False\n",
      "        Loads the euler package in the LaTeX preamble for handwritten style\n",
      "        fonts (http://www.ctan.org/pkg/euler).\n",
      "    forecolor : string or None, optional, default=None\n",
      "        DVI setting for foreground color. None means that either 'Black',\n",
      "        'White', or 'Gray' will be selected based on a guess of the IPython\n",
      "        terminal color setting. See notes.\n",
      "    backcolor : string, optional, default='Transparent'\n",
      "        DVI setting for background color. See notes.\n",
      "    fontsize : string, optional, default='10pt'\n",
      "        A font size to pass to the LaTeX documentclass function in the\n",
      "        preamble. Note that the options are limited by the documentclass.\n",
      "        Consider using scale instead.\n",
      "    latex_mode : string, optional, default='plain'\n",
      "        The mode used in the LaTeX printer. Can be one of:\n",
      "        {'inline'|'plain'|'equation'|'equation*'}.\n",
      "    print_builtin : boolean, optional, default=True\n",
      "        If ``True`` then floats and integers will be printed. If ``False`` the\n",
      "        printer will only print SymPy types.\n",
      "    str_printer : function, optional, default=None\n",
      "        A custom string printer function. This should mimic\n",
      "        sympy.printing.sstrrepr().\n",
      "    pretty_printer : function, optional, default=None\n",
      "        A custom pretty printer. This should mimic sympy.printing.pretty().\n",
      "    latex_printer : function, optional, default=None\n",
      "        A custom LaTeX printer. This should mimic sympy.printing.latex().\n",
      "    scale : float, optional, default=1.0\n",
      "        Scale the LaTeX output when using the ``png`` or ``svg`` backends.\n",
      "        Useful for high dpi screens.\n",
      "    settings :\n",
      "        Any additional settings for the ``latex`` and ``pretty`` commands can\n",
      "        be used to fine-tune the output.\n",
      "    \n",
      "    Examples\n",
      "    ========\n",
      "    \n",
      "    >>> from sympy.interactive import init_printing\n",
      "    >>> from sympy import Symbol, sqrt\n",
      "    >>> from sympy.abc import x, y\n",
      "    >>> sqrt(5)\n",
      "    sqrt(5)\n",
      "    >>> init_printing(pretty_print=True) # doctest: +SKIP\n",
      "    >>> sqrt(5) # doctest: +SKIP\n",
      "      ___\n",
      "    \\/ 5\n",
      "    >>> theta = Symbol('theta') # doctest: +SKIP\n",
      "    >>> init_printing(use_unicode=True) # doctest: +SKIP\n",
      "    >>> theta # doctest: +SKIP\n",
      "    \\u03b8\n",
      "    >>> init_printing(use_unicode=False) # doctest: +SKIP\n",
      "    >>> theta # doctest: +SKIP\n",
      "    theta\n",
      "    >>> init_printing(order='lex') # doctest: +SKIP\n",
      "    >>> str(y + x + y**2 + x**2) # doctest: +SKIP\n",
      "    x**2 + x + y**2 + y\n",
      "    >>> init_printing(order='grlex') # doctest: +SKIP\n",
      "    >>> str(y + x + y**2 + x**2) # doctest: +SKIP\n",
      "    x**2 + x + y**2 + y\n",
      "    >>> init_printing(order='grevlex') # doctest: +SKIP\n",
      "    >>> str(y * x**2 + x * y**2) # doctest: +SKIP\n",
      "    x**2*y + x*y**2\n",
      "    >>> init_printing(order='old') # doctest: +SKIP\n",
      "    >>> str(x**2 + y**2 + x + y) # doctest: +SKIP\n",
      "    x**2 + x + y**2 + y\n",
      "    >>> init_printing(num_columns=10) # doctest: +SKIP\n",
      "    >>> x**2 + x + y**2 + y # doctest: +SKIP\n",
      "    x + y +\n",
      "    x**2 + y**2\n",
      "    \n",
      "    Notes\n",
      "    =====\n",
      "    \n",
      "    The foreground and background colors can be selected when using 'png' or\n",
      "    'svg' LaTeX rendering. Note that before the ``init_printing`` command is\n",
      "    executed, the LaTeX rendering is handled by the IPython console and not SymPy.\n",
      "    \n",
      "    The colors can be selected among the 68 standard colors known to ``dvips``,\n",
      "    for a list see [1]_. In addition, the background color can be\n",
      "    set to  'Transparent' (which is the default value).\n",
      "    \n",
      "    When using the 'Auto' foreground color, the guess is based on the\n",
      "    ``colors`` variable in the IPython console, see [2]_. Hence, if\n",
      "    that variable is set correctly in your IPython console, there is a high\n",
      "    chance that the output will be readable, although manual settings may be\n",
      "    needed.\n",
      "    \n",
      "    \n",
      "    References\n",
      "    ==========\n",
      "    \n",
      "    .. [1] https://en.wikibooks.org/wiki/LaTeX/Colors#The_68_standard_colors_known_to_dvips\n",
      "    \n",
      "    .. [2] https://ipython.readthedocs.io/en/stable/config/details.html#terminal-colors\n",
      "    \n",
      "    See Also\n",
      "    ========\n",
      "    \n",
      "    sympy.printing.latex\n",
      "    sympy.printing.pretty\n",
      "\n"
     ]
    }
   ],
   "source": [
    "# Ayuda en la función init_printing\n",
    "help(sym.init_printing)"
   ]
  },
  {
   "cell_type": "code",
   "execution_count": 14,
   "metadata": {},
   "outputs": [],
   "source": [
    "# imprimir en formato latex\n",
    "sym.init_printing(use_latex='mathjax')"
   ]
  },
  {
   "cell_type": "markdown",
   "metadata": {},
   "source": [
    "La funcionalidad de imprimir en formato LaTex que nos da `SymPy` mediante el proyecto `mathjax` hace de `SymPy` una herramienta muy atractiva..."
   ]
  },
  {
   "cell_type": "markdown",
   "metadata": {},
   "source": [
    "Notar que en `SymPy` y en `NumPy` existen funciones con el mismo nombre, pero reciben tipos de datos diferentes..."
   ]
  },
  {
   "cell_type": "code",
   "execution_count": 16,
   "metadata": {},
   "outputs": [
    {
     "data": {
      "text/latex": [
       "$\\displaystyle x$"
      ],
      "text/plain": [
       "x"
      ]
     },
     "execution_count": 16,
     "metadata": {},
     "output_type": "execute_result"
    }
   ],
   "source": [
    "# Definimos la variable simbólica x\n",
    "sym.var('x')"
   ]
  },
  {
   "cell_type": "code",
   "execution_count": 17,
   "metadata": {},
   "outputs": [
    {
     "data": {
      "text/latex": [
       "$\\displaystyle \\sin{\\left(x \\right)}$"
      ],
      "text/plain": [
       "sin(x)"
      ]
     },
     "execution_count": 17,
     "metadata": {},
     "output_type": "execute_result"
    }
   ],
   "source": [
    "sym.sin(x)"
   ]
  },
  {
   "cell_type": "code",
   "execution_count": 18,
   "metadata": {},
   "outputs": [
    {
     "ename": "TypeError",
     "evalue": "loop of ufunc does not support argument 0 of type Symbol which has no callable sin method",
     "output_type": "error",
     "traceback": [
      "\u001b[0;31m---------------------------------------------------------------------------\u001b[0m",
      "\u001b[0;31mAttributeError\u001b[0m                            Traceback (most recent call last)",
      "\u001b[0;31mAttributeError\u001b[0m: 'Symbol' object has no attribute 'sin'",
      "\nThe above exception was the direct cause of the following exception:\n",
      "\u001b[0;31mTypeError\u001b[0m                                 Traceback (most recent call last)",
      "\u001b[0;32m<ipython-input-18-92f2c2d0df9d>\u001b[0m in \u001b[0;36m<module>\u001b[0;34m\u001b[0m\n\u001b[0;32m----> 1\u001b[0;31m \u001b[0mnp\u001b[0m\u001b[0;34m.\u001b[0m\u001b[0msin\u001b[0m\u001b[0;34m(\u001b[0m\u001b[0mx\u001b[0m\u001b[0;34m)\u001b[0m\u001b[0;34m\u001b[0m\u001b[0;34m\u001b[0m\u001b[0m\n\u001b[0m",
      "\u001b[0;31mTypeError\u001b[0m: loop of ufunc does not support argument 0 of type Symbol which has no callable sin method"
     ]
    }
   ],
   "source": [
    "np.sin(x)"
   ]
  },
  {
   "cell_type": "code",
   "execution_count": 19,
   "metadata": {},
   "outputs": [
    {
     "data": {
      "text/plain": [
       "array([0.        , 0.84147098, 0.00159265])"
      ]
     },
     "execution_count": 19,
     "metadata": {},
     "output_type": "execute_result"
    }
   ],
   "source": [
    "y = np.array([0, 1, 3.14])\n",
    "np.sin(y)"
   ]
  },
  {
   "cell_type": "code",
   "execution_count": 20,
   "metadata": {},
   "outputs": [
    {
     "ename": "AttributeError",
     "evalue": "'ImmutableDenseNDimArray' object has no attribute 'could_extract_minus_sign'",
     "output_type": "error",
     "traceback": [
      "\u001b[0;31m---------------------------------------------------------------------------\u001b[0m",
      "\u001b[0;31mAttributeError\u001b[0m                            Traceback (most recent call last)",
      "\u001b[0;32m<ipython-input-20-a7ffaefc09e3>\u001b[0m in \u001b[0;36m<module>\u001b[0;34m\u001b[0m\n\u001b[0;32m----> 1\u001b[0;31m \u001b[0msym\u001b[0m\u001b[0;34m.\u001b[0m\u001b[0msin\u001b[0m\u001b[0;34m(\u001b[0m\u001b[0my\u001b[0m\u001b[0;34m)\u001b[0m\u001b[0;34m\u001b[0m\u001b[0;34m\u001b[0m\u001b[0m\n\u001b[0m",
      "\u001b[0;32m~/anaconda3/lib/python3.7/site-packages/sympy/core/function.py\u001b[0m in \u001b[0;36m__new__\u001b[0;34m(cls, *args, **options)\u001b[0m\n\u001b[1;32m    471\u001b[0m \u001b[0;34m\u001b[0m\u001b[0m\n\u001b[1;32m    472\u001b[0m         \u001b[0mevaluate\u001b[0m \u001b[0;34m=\u001b[0m \u001b[0moptions\u001b[0m\u001b[0;34m.\u001b[0m\u001b[0mget\u001b[0m\u001b[0;34m(\u001b[0m\u001b[0;34m'evaluate'\u001b[0m\u001b[0;34m,\u001b[0m \u001b[0mglobal_evaluate\u001b[0m\u001b[0;34m[\u001b[0m\u001b[0;36m0\u001b[0m\u001b[0;34m]\u001b[0m\u001b[0;34m)\u001b[0m\u001b[0;34m\u001b[0m\u001b[0;34m\u001b[0m\u001b[0m\n\u001b[0;32m--> 473\u001b[0;31m         \u001b[0mresult\u001b[0m \u001b[0;34m=\u001b[0m \u001b[0msuper\u001b[0m\u001b[0;34m(\u001b[0m\u001b[0mFunction\u001b[0m\u001b[0;34m,\u001b[0m \u001b[0mcls\u001b[0m\u001b[0;34m)\u001b[0m\u001b[0;34m.\u001b[0m\u001b[0m__new__\u001b[0m\u001b[0;34m(\u001b[0m\u001b[0mcls\u001b[0m\u001b[0;34m,\u001b[0m \u001b[0;34m*\u001b[0m\u001b[0margs\u001b[0m\u001b[0;34m,\u001b[0m \u001b[0;34m**\u001b[0m\u001b[0moptions\u001b[0m\u001b[0;34m)\u001b[0m\u001b[0;34m\u001b[0m\u001b[0;34m\u001b[0m\u001b[0m\n\u001b[0m\u001b[1;32m    474\u001b[0m         \u001b[0;32mif\u001b[0m \u001b[0mevaluate\u001b[0m \u001b[0;32mand\u001b[0m \u001b[0misinstance\u001b[0m\u001b[0;34m(\u001b[0m\u001b[0mresult\u001b[0m\u001b[0;34m,\u001b[0m \u001b[0mcls\u001b[0m\u001b[0;34m)\u001b[0m \u001b[0;32mand\u001b[0m \u001b[0mresult\u001b[0m\u001b[0;34m.\u001b[0m\u001b[0margs\u001b[0m\u001b[0;34m:\u001b[0m\u001b[0;34m\u001b[0m\u001b[0;34m\u001b[0m\u001b[0m\n\u001b[1;32m    475\u001b[0m             \u001b[0mpr2\u001b[0m \u001b[0;34m=\u001b[0m \u001b[0mmin\u001b[0m\u001b[0;34m(\u001b[0m\u001b[0mcls\u001b[0m\u001b[0;34m.\u001b[0m\u001b[0m_should_evalf\u001b[0m\u001b[0;34m(\u001b[0m\u001b[0ma\u001b[0m\u001b[0;34m)\u001b[0m \u001b[0;32mfor\u001b[0m \u001b[0ma\u001b[0m \u001b[0;32min\u001b[0m \u001b[0mresult\u001b[0m\u001b[0;34m.\u001b[0m\u001b[0margs\u001b[0m\u001b[0;34m)\u001b[0m\u001b[0;34m\u001b[0m\u001b[0;34m\u001b[0m\u001b[0m\n",
      "\u001b[0;32m~/anaconda3/lib/python3.7/site-packages/sympy/core/function.py\u001b[0m in \u001b[0;36m__new__\u001b[0;34m(cls, *args, **options)\u001b[0m\n\u001b[1;32m    286\u001b[0m \u001b[0;34m\u001b[0m\u001b[0m\n\u001b[1;32m    287\u001b[0m         \u001b[0;32mif\u001b[0m \u001b[0mevaluate\u001b[0m\u001b[0;34m:\u001b[0m\u001b[0;34m\u001b[0m\u001b[0;34m\u001b[0m\u001b[0m\n\u001b[0;32m--> 288\u001b[0;31m             \u001b[0mevaluated\u001b[0m \u001b[0;34m=\u001b[0m \u001b[0mcls\u001b[0m\u001b[0;34m.\u001b[0m\u001b[0meval\u001b[0m\u001b[0;34m(\u001b[0m\u001b[0;34m*\u001b[0m\u001b[0margs\u001b[0m\u001b[0;34m)\u001b[0m\u001b[0;34m\u001b[0m\u001b[0;34m\u001b[0m\u001b[0m\n\u001b[0m\u001b[1;32m    289\u001b[0m             \u001b[0;32mif\u001b[0m \u001b[0mevaluated\u001b[0m \u001b[0;32mis\u001b[0m \u001b[0;32mnot\u001b[0m \u001b[0;32mNone\u001b[0m\u001b[0;34m:\u001b[0m\u001b[0;34m\u001b[0m\u001b[0;34m\u001b[0m\u001b[0m\n\u001b[1;32m    290\u001b[0m                 \u001b[0;32mreturn\u001b[0m \u001b[0mevaluated\u001b[0m\u001b[0;34m\u001b[0m\u001b[0;34m\u001b[0m\u001b[0m\n",
      "\u001b[0;32m~/anaconda3/lib/python3.7/site-packages/sympy/functions/elementary/trigonometric.py\u001b[0m in \u001b[0;36meval\u001b[0;34m(cls, arg)\u001b[0m\n\u001b[1;32m    297\u001b[0m             \u001b[0;32mreturn\u001b[0m \u001b[0marg\u001b[0m\u001b[0;34m.\u001b[0m\u001b[0m_eval_func\u001b[0m\u001b[0;34m(\u001b[0m\u001b[0mcls\u001b[0m\u001b[0;34m)\u001b[0m\u001b[0;34m\u001b[0m\u001b[0;34m\u001b[0m\u001b[0m\n\u001b[1;32m    298\u001b[0m \u001b[0;34m\u001b[0m\u001b[0m\n\u001b[0;32m--> 299\u001b[0;31m         \u001b[0;32mif\u001b[0m \u001b[0marg\u001b[0m\u001b[0;34m.\u001b[0m\u001b[0mcould_extract_minus_sign\u001b[0m\u001b[0;34m(\u001b[0m\u001b[0;34m)\u001b[0m\u001b[0;34m:\u001b[0m\u001b[0;34m\u001b[0m\u001b[0;34m\u001b[0m\u001b[0m\n\u001b[0m\u001b[1;32m    300\u001b[0m             \u001b[0;32mreturn\u001b[0m \u001b[0;34m-\u001b[0m\u001b[0mcls\u001b[0m\u001b[0;34m(\u001b[0m\u001b[0;34m-\u001b[0m\u001b[0marg\u001b[0m\u001b[0;34m)\u001b[0m\u001b[0;34m\u001b[0m\u001b[0;34m\u001b[0m\u001b[0m\n\u001b[1;32m    301\u001b[0m \u001b[0;34m\u001b[0m\u001b[0m\n",
      "\u001b[0;31mAttributeError\u001b[0m: 'ImmutableDenseNDimArray' object has no attribute 'could_extract_minus_sign'"
     ]
    }
   ],
   "source": [
    "sym.sin(y)"
   ]
  },
  {
   "cell_type": "code",
   "execution_count": 24,
   "metadata": {},
   "outputs": [],
   "source": [
    "# from sympy import *\n",
    "# from numpy import *\n",
    "# Esta práctica no es para nada recomendable."
   ]
  },
  {
   "cell_type": "code",
   "execution_count": 28,
   "metadata": {},
   "outputs": [
    {
     "data": {
      "text/plain": [
       "array([0.        , 0.84147098, 0.00159265])"
      ]
     },
     "execution_count": 28,
     "metadata": {},
     "output_type": "execute_result"
    }
   ],
   "source": [
    "sin(y)"
   ]
  },
  {
   "cell_type": "code",
   "execution_count": 29,
   "metadata": {},
   "outputs": [
    {
     "name": "stderr",
     "output_type": "stream",
     "text": [
      "/home/esteban/anaconda3/lib/python3.7/site-packages/ipykernel_launcher.py:1: RuntimeWarning: divide by zero encountered in log\n",
      "  \"\"\"Entry point for launching an IPython kernel.\n"
     ]
    },
    {
     "data": {
      "text/plain": [
       "array([     -inf, 0.       , 1.1442228])"
      ]
     },
     "execution_count": 29,
     "metadata": {},
     "output_type": "execute_result"
    }
   ],
   "source": [
    "log(y)"
   ]
  },
  {
   "cell_type": "markdown",
   "metadata": {},
   "source": [
    "Explicar el uso de la sintaxis `from numpy import *` y sus peligros (no recomendable)."
   ]
  },
  {
   "cell_type": "markdown",
   "metadata": {},
   "source": [
    "### 0.3 `PyPlot` de `matplotlib`\n",
    "\n",
    "<img style=\"float: right; margin: 0px 0px 15px 15px;\" src=\"https://matplotlib.org/_static/logo2.svg\" width=\"300px\" height=\"100px\" />\n",
    "\n",
    "El módulo `PyPlot` de la librería `matplotlib` contiene funciones que nos permite generar una gran cantidad de gráficas rápidamente. Las funciones de este módulo están escritas con el mismo nombre que las funciones para graficar en `Matlab`.\n",
    "\n",
    "**Referencia:**\n",
    "- https://matplotlib.org/api/pyplot_summary.html"
   ]
  },
  {
   "cell_type": "code",
   "execution_count": 30,
   "metadata": {},
   "outputs": [],
   "source": [
    "# importar matplotlib.pyplot\n",
    "# import matplotlib.pyplot as plt\n",
    "from matplotlib import pyplot as plt\n",
    "# comando para que las gráficas salgan en la misma ventana\n",
    "%matplotlib inline"
   ]
  },
  {
   "cell_type": "markdown",
   "metadata": {},
   "source": [
    "Ya que revisamos todas las librerías que usaremos, empecemos con la clase como tal..."
   ]
  },
  {
   "cell_type": "markdown",
   "metadata": {},
   "source": [
    "___\n",
    "Basamos todos los resultados en los siguientes teoremas:"
   ]
  },
  {
   "cell_type": "markdown",
   "metadata": {},
   "source": [
    "## 1. Teorema de Fermat (análisis)\n",
    "\n",
    "Si una función $f(x)$ alcanza un máximo o mínimo local en $x=c$, y si la derivada $f'(c)$ existe en el punto $c$, entonces $f'(c) = 0$."
   ]
  },
  {
   "cell_type": "markdown",
   "metadata": {},
   "source": [
    "### Ejemplo\n",
    "\n",
    "Sabemos que la función $f(x)=x^2$ tiene un mínimo global en $x=0$, pues\n",
    "\n",
    "$$f(x)=x^2\\geq0,\\qquad\\text{y}\\qquad f(x)=x^2=0 \\qquad\\text{si y solo si}\\qquad x=0.$$"
   ]
  },
  {
   "cell_type": "code",
   "execution_count": 57,
   "metadata": {},
   "outputs": [
    {
     "data": {
      "text/latex": [
       "$\\displaystyle x$"
      ],
      "text/plain": [
       "x"
      ]
     },
     "execution_count": 57,
     "metadata": {},
     "output_type": "execute_result"
    }
   ],
   "source": [
    "# declarar la variable real x\n",
    "sym.var('x')"
   ]
  },
  {
   "cell_type": "code",
   "execution_count": 58,
   "metadata": {},
   "outputs": [],
   "source": [
    "# declarar ahora f=x^2 y mostrar\n",
    "f = x**2  # En python x^2 es otra cosa"
   ]
  },
  {
   "cell_type": "markdown",
   "metadata": {},
   "source": [
    "Cuidado"
   ]
  },
  {
   "cell_type": "code",
   "execution_count": 59,
   "metadata": {},
   "outputs": [
    {
     "data": {
      "text/latex": [
       "$\\displaystyle 16$"
      ],
      "text/plain": [
       "16"
      ]
     },
     "execution_count": 59,
     "metadata": {},
     "output_type": "execute_result"
    }
   ],
   "source": [
    "4**2"
   ]
  },
  {
   "cell_type": "code",
   "execution_count": 60,
   "metadata": {},
   "outputs": [
    {
     "data": {
      "text/latex": [
       "$\\displaystyle 6$"
      ],
      "text/plain": [
       "6"
      ]
     },
     "execution_count": 60,
     "metadata": {},
     "output_type": "execute_result"
    }
   ],
   "source": [
    "4^2 #  4: 1 0 0\n",
    "    #  2: 0 1 0\n",
    "    #     1 1 0: 6"
   ]
  },
  {
   "cell_type": "code",
   "execution_count": 61,
   "metadata": {},
   "outputs": [
    {
     "data": {
      "text/latex": [
       "$\\displaystyle 2 x$"
      ],
      "text/plain": [
       "2⋅x"
      ]
     },
     "execution_count": 61,
     "metadata": {},
     "output_type": "execute_result"
    }
   ],
   "source": [
    "# derivar f respecto a x y mostrar\n",
    "df = sym.diff(f, x)  # df / dx\n",
    "df"
   ]
  },
  {
   "cell_type": "code",
   "execution_count": 62,
   "metadata": {},
   "outputs": [
    {
     "name": "stdout",
     "output_type": "stream",
     "text": [
      "Help on function solve in module sympy.solvers.solvers:\n",
      "\n",
      "solve(f, *symbols, **flags)\n",
      "    Algebraically solves equations and systems of equations.\n",
      "    \n",
      "    Currently supported are:\n",
      "        - polynomial,\n",
      "        - transcendental\n",
      "        - piecewise combinations of the above\n",
      "        - systems of linear and polynomial equations\n",
      "        - systems containing relational expressions.\n",
      "    \n",
      "    Input is formed as:\n",
      "    \n",
      "    * f\n",
      "        - a single Expr or Poly that must be zero,\n",
      "        - an Equality\n",
      "        - a Relational expression\n",
      "        - a Boolean\n",
      "        - iterable of one or more of the above\n",
      "    \n",
      "    * symbols (object(s) to solve for) specified as\n",
      "        - none given (other non-numeric objects will be used)\n",
      "        - single symbol\n",
      "        - denested list of symbols\n",
      "          e.g. solve(f, x, y)\n",
      "        - ordered iterable of symbols\n",
      "          e.g. solve(f, [x, y])\n",
      "    \n",
      "    * flags\n",
      "        'dict'=True (default is False)\n",
      "            return list (perhaps empty) of solution mappings\n",
      "        'set'=True (default is False)\n",
      "            return list of symbols and set of tuple(s) of solution(s)\n",
      "        'exclude=[] (default)'\n",
      "            don't try to solve for any of the free symbols in exclude;\n",
      "            if expressions are given, the free symbols in them will\n",
      "            be extracted automatically.\n",
      "        'check=True (default)'\n",
      "            If False, don't do any testing of solutions. This can be\n",
      "            useful if one wants to include solutions that make any\n",
      "            denominator zero.\n",
      "        'numerical=True (default)'\n",
      "            do a fast numerical check if ``f`` has only one symbol.\n",
      "        'minimal=True (default is False)'\n",
      "            a very fast, minimal testing.\n",
      "        'warn=True (default is False)'\n",
      "            show a warning if checksol() could not conclude.\n",
      "        'simplify=True (default)'\n",
      "            simplify all but polynomials of order 3 or greater before\n",
      "            returning them and (if check is not False) use the\n",
      "            general simplify function on the solutions and the\n",
      "            expression obtained when they are substituted into the\n",
      "            function which should be zero\n",
      "        'force=True (default is False)'\n",
      "            make positive all symbols without assumptions regarding sign.\n",
      "        'rational=True (default)'\n",
      "            recast Floats as Rational; if this option is not used, the\n",
      "            system containing floats may fail to solve because of issues\n",
      "            with polys. If rational=None, Floats will be recast as\n",
      "            rationals but the answer will be recast as Floats. If the\n",
      "            flag is False then nothing will be done to the Floats.\n",
      "        'manual=True (default is False)'\n",
      "            do not use the polys/matrix method to solve a system of\n",
      "            equations, solve them one at a time as you might \"manually\"\n",
      "        'implicit=True (default is False)'\n",
      "            allows solve to return a solution for a pattern in terms of\n",
      "            other functions that contain that pattern; this is only\n",
      "            needed if the pattern is inside of some invertible function\n",
      "            like cos, exp, ....\n",
      "        'particular=True (default is False)'\n",
      "            instructs solve to try to find a particular solution to a linear\n",
      "            system with as many zeros as possible; this is very expensive\n",
      "        'quick=True (default is False)'\n",
      "            when using particular=True, use a fast heuristic instead to find a\n",
      "            solution with many zeros (instead of using the very slow method\n",
      "            guaranteed to find the largest number of zeros possible)\n",
      "        'cubics=True (default)'\n",
      "            return explicit solutions when cubic expressions are encountered\n",
      "        'quartics=True (default)'\n",
      "            return explicit solutions when quartic expressions are encountered\n",
      "        'quintics=True (default)'\n",
      "            return explicit solutions (if possible) when quintic expressions\n",
      "            are encountered\n",
      "    \n",
      "    Examples\n",
      "    ========\n",
      "    \n",
      "    The output varies according to the input and can be seen by example::\n",
      "    \n",
      "        >>> from sympy import solve, Poly, Eq, Function, exp\n",
      "        >>> from sympy.abc import x, y, z, a, b\n",
      "        >>> f = Function('f')\n",
      "    \n",
      "    * boolean or univariate Relational\n",
      "    \n",
      "        >>> solve(x < 3)\n",
      "        (-oo < x) & (x < 3)\n",
      "    \n",
      "    \n",
      "    * to always get a list of solution mappings, use flag dict=True\n",
      "    \n",
      "        >>> solve(x - 3, dict=True)\n",
      "        [{x: 3}]\n",
      "        >>> sol = solve([x - 3, y - 1], dict=True)\n",
      "        >>> sol\n",
      "        [{x: 3, y: 1}]\n",
      "        >>> sol[0][x]\n",
      "        3\n",
      "        >>> sol[0][y]\n",
      "        1\n",
      "    \n",
      "    \n",
      "    * to get a list of symbols and set of solution(s) use flag set=True\n",
      "    \n",
      "        >>> solve([x**2 - 3, y - 1], set=True)\n",
      "        ([x, y], {(-sqrt(3), 1), (sqrt(3), 1)})\n",
      "    \n",
      "    \n",
      "    * single expression and single symbol that is in the expression\n",
      "    \n",
      "        >>> solve(x - y, x)\n",
      "        [y]\n",
      "        >>> solve(x - 3, x)\n",
      "        [3]\n",
      "        >>> solve(Eq(x, 3), x)\n",
      "        [3]\n",
      "        >>> solve(Poly(x - 3), x)\n",
      "        [3]\n",
      "        >>> solve(x**2 - y**2, x, set=True)\n",
      "        ([x], {(-y,), (y,)})\n",
      "        >>> solve(x**4 - 1, x, set=True)\n",
      "        ([x], {(-1,), (1,), (-I,), (I,)})\n",
      "    \n",
      "    * single expression with no symbol that is in the expression\n",
      "    \n",
      "        >>> solve(3, x)\n",
      "        []\n",
      "        >>> solve(x - 3, y)\n",
      "        []\n",
      "    \n",
      "    * single expression with no symbol given\n",
      "    \n",
      "          In this case, all free symbols will be selected as potential\n",
      "          symbols to solve for. If the equation is univariate then a list\n",
      "          of solutions is returned; otherwise -- as is the case when symbols are\n",
      "          given as an iterable of length > 1 -- a list of mappings will be returned.\n",
      "    \n",
      "            >>> solve(x - 3)\n",
      "            [3]\n",
      "            >>> solve(x**2 - y**2)\n",
      "            [{x: -y}, {x: y}]\n",
      "            >>> solve(z**2*x**2 - z**2*y**2)\n",
      "            [{x: -y}, {x: y}, {z: 0}]\n",
      "            >>> solve(z**2*x - z**2*y**2)\n",
      "            [{x: y**2}, {z: 0}]\n",
      "    \n",
      "    * when an object other than a Symbol is given as a symbol, it is\n",
      "      isolated algebraically and an implicit solution may be obtained.\n",
      "      This is mostly provided as a convenience to save one from replacing\n",
      "      the object with a Symbol and solving for that Symbol. It will only\n",
      "      work if the specified object can be replaced with a Symbol using the\n",
      "      subs method.\n",
      "    \n",
      "          >>> solve(f(x) - x, f(x))\n",
      "          [x]\n",
      "          >>> solve(f(x).diff(x) - f(x) - x, f(x).diff(x))\n",
      "          [x + f(x)]\n",
      "          >>> solve(f(x).diff(x) - f(x) - x, f(x))\n",
      "          [-x + Derivative(f(x), x)]\n",
      "          >>> solve(x + exp(x)**2, exp(x), set=True)\n",
      "          ([exp(x)], {(-sqrt(-x),), (sqrt(-x),)})\n",
      "    \n",
      "          >>> from sympy import Indexed, IndexedBase, Tuple, sqrt\n",
      "          >>> A = IndexedBase('A')\n",
      "          >>> eqs = Tuple(A[1] + A[2] - 3, A[1] - A[2] + 1)\n",
      "          >>> solve(eqs, eqs.atoms(Indexed))\n",
      "          {A[1]: 1, A[2]: 2}\n",
      "    \n",
      "        * To solve for a *symbol* implicitly, use 'implicit=True':\n",
      "    \n",
      "            >>> solve(x + exp(x), x)\n",
      "            [-LambertW(1)]\n",
      "            >>> solve(x + exp(x), x, implicit=True)\n",
      "            [-exp(x)]\n",
      "    \n",
      "        * It is possible to solve for anything that can be targeted with\n",
      "          subs:\n",
      "    \n",
      "            >>> solve(x + 2 + sqrt(3), x + 2)\n",
      "            [-sqrt(3)]\n",
      "            >>> solve((x + 2 + sqrt(3), x + 4 + y), y, x + 2)\n",
      "            {y: -2 + sqrt(3), x + 2: -sqrt(3)}\n",
      "    \n",
      "        * Nothing heroic is done in this implicit solving so you may end up\n",
      "          with a symbol still in the solution:\n",
      "    \n",
      "            >>> eqs = (x*y + 3*y + sqrt(3), x + 4 + y)\n",
      "            >>> solve(eqs, y, x + 2)\n",
      "            {y: -sqrt(3)/(x + 3), x + 2: (-2*x - 6 + sqrt(3))/(x + 3)}\n",
      "            >>> solve(eqs, y*x, x)\n",
      "            {x: -y - 4, x*y: -3*y - sqrt(3)}\n",
      "    \n",
      "        * if you attempt to solve for a number remember that the number\n",
      "          you have obtained does not necessarily mean that the value is\n",
      "          equivalent to the expression obtained:\n",
      "    \n",
      "            >>> solve(sqrt(2) - 1, 1)\n",
      "            [sqrt(2)]\n",
      "            >>> solve(x - y + 1, 1)  # /!\\ -1 is targeted, too\n",
      "            [x/(y - 1)]\n",
      "            >>> [_.subs(z, -1) for _ in solve((x - y + 1).subs(-1, z), 1)]\n",
      "            [-x + y]\n",
      "    \n",
      "        * To solve for a function within a derivative, use dsolve.\n",
      "    \n",
      "    * single expression and more than 1 symbol\n",
      "    \n",
      "        * when there is a linear solution\n",
      "    \n",
      "            >>> solve(x - y**2, x, y)\n",
      "            [(y**2, y)]\n",
      "            >>> solve(x**2 - y, x, y)\n",
      "            [(x, x**2)]\n",
      "            >>> solve(x**2 - y, x, y, dict=True)\n",
      "            [{y: x**2}]\n",
      "    \n",
      "        * when undetermined coefficients are identified\n",
      "    \n",
      "            * that are linear\n",
      "    \n",
      "                >>> solve((a + b)*x - b + 2, a, b)\n",
      "                {a: -2, b: 2}\n",
      "    \n",
      "            * that are nonlinear\n",
      "    \n",
      "                >>> solve((a + b)*x - b**2 + 2, a, b, set=True)\n",
      "                ([a, b], {(-sqrt(2), sqrt(2)), (sqrt(2), -sqrt(2))})\n",
      "    \n",
      "        * if there is no linear solution then the first successful\n",
      "          attempt for a nonlinear solution will be returned\n",
      "    \n",
      "            >>> solve(x**2 - y**2, x, y, dict=True)\n",
      "            [{x: -y}, {x: y}]\n",
      "            >>> solve(x**2 - y**2/exp(x), x, y, dict=True)\n",
      "            [{x: 2*LambertW(-y/2)}, {x: 2*LambertW(y/2)}]\n",
      "            >>> solve(x**2 - y**2/exp(x), y, x)\n",
      "            [(-x*sqrt(exp(x)), x), (x*sqrt(exp(x)), x)]\n",
      "    \n",
      "    * iterable of one or more of the above\n",
      "    \n",
      "        * involving relationals or bools\n",
      "    \n",
      "            >>> solve([x < 3, x - 2])\n",
      "            Eq(x, 2)\n",
      "            >>> solve([x > 3, x - 2])\n",
      "            False\n",
      "    \n",
      "        * when the system is linear\n",
      "    \n",
      "            * with a solution\n",
      "    \n",
      "                >>> solve([x - 3], x)\n",
      "                {x: 3}\n",
      "                >>> solve((x + 5*y - 2, -3*x + 6*y - 15), x, y)\n",
      "                {x: -3, y: 1}\n",
      "                >>> solve((x + 5*y - 2, -3*x + 6*y - 15), x, y, z)\n",
      "                {x: -3, y: 1}\n",
      "                >>> solve((x + 5*y - 2, -3*x + 6*y - z), z, x, y)\n",
      "                {x: 2 - 5*y, z: 21*y - 6}\n",
      "    \n",
      "            * without a solution\n",
      "    \n",
      "                >>> solve([x + 3, x - 3])\n",
      "                []\n",
      "    \n",
      "        * when the system is not linear\n",
      "    \n",
      "            >>> solve([x**2 + y -2, y**2 - 4], x, y, set=True)\n",
      "            ([x, y], {(-2, -2), (0, 2), (2, -2)})\n",
      "    \n",
      "        * if no symbols are given, all free symbols will be selected and a list\n",
      "          of mappings returned\n",
      "    \n",
      "            >>> solve([x - 2, x**2 + y])\n",
      "            [{x: 2, y: -4}]\n",
      "            >>> solve([x - 2, x**2 + f(x)], {f(x), x})\n",
      "            [{x: 2, f(x): -4}]\n",
      "    \n",
      "        * if any equation doesn't depend on the symbol(s) given it will be\n",
      "          eliminated from the equation set and an answer may be given\n",
      "          implicitly in terms of variables that were not of interest\n",
      "    \n",
      "            >>> solve([x - y, y - 3], x)\n",
      "            {x: y}\n",
      "    \n",
      "    Notes\n",
      "    =====\n",
      "    \n",
      "    solve() with check=True (default) will run through the symbol tags to\n",
      "    elimate unwanted solutions.  If no assumptions are included all possible\n",
      "    solutions will be returned.\n",
      "    \n",
      "        >>> from sympy import Symbol, solve\n",
      "        >>> x = Symbol(\"x\")\n",
      "        >>> solve(x**2 - 1)\n",
      "        [-1, 1]\n",
      "    \n",
      "    By using the positive tag only one solution will be returned:\n",
      "    \n",
      "        >>> pos = Symbol(\"pos\", positive=True)\n",
      "        >>> solve(pos**2 - 1)\n",
      "        [1]\n",
      "    \n",
      "    \n",
      "    Assumptions aren't checked when `solve()` input involves\n",
      "    relationals or bools.\n",
      "    \n",
      "    When the solutions are checked, those that make any denominator zero\n",
      "    are automatically excluded. If you do not want to exclude such solutions\n",
      "    then use the check=False option:\n",
      "    \n",
      "        >>> from sympy import sin, limit\n",
      "        >>> solve(sin(x)/x)  # 0 is excluded\n",
      "        [pi]\n",
      "    \n",
      "    If check=False then a solution to the numerator being zero is found: x = 0.\n",
      "    In this case, this is a spurious solution since sin(x)/x has the well known\n",
      "    limit (without dicontinuity) of 1 at x = 0:\n",
      "    \n",
      "        >>> solve(sin(x)/x, check=False)\n",
      "        [0, pi]\n",
      "    \n",
      "    In the following case, however, the limit exists and is equal to the\n",
      "    value of x = 0 that is excluded when check=True:\n",
      "    \n",
      "        >>> eq = x**2*(1/x - z**2/x)\n",
      "        >>> solve(eq, x)\n",
      "        []\n",
      "        >>> solve(eq, x, check=False)\n",
      "        [0]\n",
      "        >>> limit(eq, x, 0, '-')\n",
      "        0\n",
      "        >>> limit(eq, x, 0, '+')\n",
      "        0\n",
      "    \n",
      "    Disabling high-order, explicit solutions\n",
      "    ----------------------------------------\n",
      "    \n",
      "    When solving polynomial expressions, one might not want explicit solutions\n",
      "    (which can be quite long). If the expression is univariate, CRootOf\n",
      "    instances will be returned instead:\n",
      "    \n",
      "        >>> solve(x**3 - x + 1)\n",
      "        [-1/((-1/2 - sqrt(3)*I/2)*(3*sqrt(69)/2 + 27/2)**(1/3)) - (-1/2 -\n",
      "        sqrt(3)*I/2)*(3*sqrt(69)/2 + 27/2)**(1/3)/3, -(-1/2 +\n",
      "        sqrt(3)*I/2)*(3*sqrt(69)/2 + 27/2)**(1/3)/3 - 1/((-1/2 +\n",
      "        sqrt(3)*I/2)*(3*sqrt(69)/2 + 27/2)**(1/3)), -(3*sqrt(69)/2 +\n",
      "        27/2)**(1/3)/3 - 1/(3*sqrt(69)/2 + 27/2)**(1/3)]\n",
      "        >>> solve(x**3 - x + 1, cubics=False)\n",
      "        [CRootOf(x**3 - x + 1, 0),\n",
      "         CRootOf(x**3 - x + 1, 1),\n",
      "         CRootOf(x**3 - x + 1, 2)]\n",
      "    \n",
      "        If the expression is multivariate, no solution might be returned:\n",
      "    \n",
      "        >>> solve(x**3 - x + a, x, cubics=False)\n",
      "        []\n",
      "    \n",
      "    Sometimes solutions will be obtained even when a flag is False because the\n",
      "    expression could be factored. In the following example, the equation can\n",
      "    be factored as the product of a linear and a quadratic factor so explicit\n",
      "    solutions (which did not require solving a cubic expression) are obtained:\n",
      "    \n",
      "        >>> eq = x**3 + 3*x**2 + x - 1\n",
      "        >>> solve(eq, cubics=False)\n",
      "        [-1, -1 + sqrt(2), -sqrt(2) - 1]\n",
      "    \n",
      "    Solving equations involving radicals\n",
      "    ------------------------------------\n",
      "    \n",
      "    Because of SymPy's use of the principle root (issue #8789), some solutions\n",
      "    to radical equations will be missed unless check=False:\n",
      "    \n",
      "        >>> from sympy import root\n",
      "        >>> eq = root(x**3 - 3*x**2, 3) + 1 - x\n",
      "        >>> solve(eq)\n",
      "        []\n",
      "        >>> solve(eq, check=False)\n",
      "        [1/3]\n",
      "    \n",
      "    In the above example there is only a single solution to the\n",
      "    equation. Other expressions will yield spurious roots which\n",
      "    must be checked manually; roots which give a negative argument\n",
      "    to odd-powered radicals will also need special checking:\n",
      "    \n",
      "        >>> from sympy import real_root, S\n",
      "        >>> eq = root(x, 3) - root(x, 5) + S(1)/7\n",
      "        >>> solve(eq)  # this gives 2 solutions but misses a 3rd\n",
      "        [CRootOf(7*_p**5 - 7*_p**3 + 1, 1)**15,\n",
      "        CRootOf(7*_p**5 - 7*_p**3 + 1, 2)**15]\n",
      "        >>> sol = solve(eq, check=False)\n",
      "        >>> [abs(eq.subs(x,i).n(2)) for i in sol]\n",
      "        [0.48, 0.e-110, 0.e-110, 0.052, 0.052]\n",
      "    \n",
      "        The first solution is negative so real_root must be used to see\n",
      "        that it satisfies the expression:\n",
      "    \n",
      "        >>> abs(real_root(eq.subs(x, sol[0])).n(2))\n",
      "        0.e-110\n",
      "    \n",
      "    If the roots of the equation are not real then more care will be\n",
      "    necessary to find the roots, especially for higher order equations.\n",
      "    Consider the following expression:\n",
      "    \n",
      "        >>> expr = root(x, 3) - root(x, 5)\n",
      "    \n",
      "    We will construct a known value for this expression at x = 3 by selecting\n",
      "    the 1-th root for each radical:\n",
      "    \n",
      "        >>> expr1 = root(x, 3, 1) - root(x, 5, 1)\n",
      "        >>> v = expr1.subs(x, -3)\n",
      "    \n",
      "    The solve function is unable to find any exact roots to this equation:\n",
      "    \n",
      "        >>> eq = Eq(expr, v); eq1 = Eq(expr1, v)\n",
      "        >>> solve(eq, check=False), solve(eq1, check=False)\n",
      "        ([], [])\n",
      "    \n",
      "    The function unrad, however, can be used to get a form of the equation for\n",
      "    which numerical roots can be found:\n",
      "    \n",
      "        >>> from sympy.solvers.solvers import unrad\n",
      "        >>> from sympy import nroots\n",
      "        >>> e, (p, cov) = unrad(eq)\n",
      "        >>> pvals = nroots(e)\n",
      "        >>> inversion = solve(cov, x)[0]\n",
      "        >>> xvals = [inversion.subs(p, i) for i in pvals]\n",
      "    \n",
      "    Although eq or eq1 could have been used to find xvals, the solution can\n",
      "    only be verified with expr1:\n",
      "    \n",
      "        >>> z = expr - v\n",
      "        >>> [xi.n(chop=1e-9) for xi in xvals if abs(z.subs(x, xi).n()) < 1e-9]\n",
      "        []\n",
      "        >>> z1 = expr1 - v\n",
      "        >>> [xi.n(chop=1e-9) for xi in xvals if abs(z1.subs(x, xi).n()) < 1e-9]\n",
      "        [-3.0]\n",
      "    \n",
      "    See Also\n",
      "    ========\n",
      "    \n",
      "        - rsolve() for solving recurrence relationships\n",
      "        - dsolve() for solving differential equations\n",
      "\n"
     ]
    }
   ],
   "source": [
    "# resolver f'(x)=0 y mostrar soluciones\n",
    "help(sym.solve)"
   ]
  },
  {
   "cell_type": "code",
   "execution_count": 63,
   "metadata": {},
   "outputs": [
    {
     "data": {
      "text/latex": [
       "$\\displaystyle \\left[ 0\\right]$"
      ],
      "text/plain": [
       "[0]"
      ]
     },
     "execution_count": 63,
     "metadata": {},
     "output_type": "execute_result"
    }
   ],
   "source": [
    "sol = sym.solve(df, x)\n",
    "sol"
   ]
  },
  {
   "cell_type": "code",
   "execution_count": 64,
   "metadata": {},
   "outputs": [
    {
     "data": {
      "text/latex": [
       "$\\displaystyle \\left[ - i, \\  i\\right]$"
      ],
      "text/plain": [
       "[-ⅈ, ⅈ]"
      ]
     },
     "execution_count": 64,
     "metadata": {},
     "output_type": "execute_result"
    }
   ],
   "source": [
    "# Encuentra también soluciones complejas\n",
    "sym.solve(x**2 + 1, x)"
   ]
  },
  {
   "cell_type": "code",
   "execution_count": 65,
   "metadata": {},
   "outputs": [
    {
     "data": {
      "text/latex": [
       "$\\displaystyle \\left[ \\right]$"
      ],
      "text/plain": [
       "[]"
      ]
     },
     "execution_count": 65,
     "metadata": {},
     "output_type": "execute_result"
    }
   ],
   "source": [
    "# Puedo resolver ecuaciones que involucren más de una variable\n",
    "sym.solve(x**2 * y + 3 * y**3 * x + 1, x)"
   ]
  },
  {
   "cell_type": "markdown",
   "metadata": {},
   "source": [
    "Veamos la gráfica..."
   ]
  },
  {
   "cell_type": "code",
   "execution_count": 66,
   "metadata": {},
   "outputs": [],
   "source": [
    "# convertir f e una función que se pueda evaluar numéricamente (función lambdify de la librería sympy)\n",
    "f_num = sym.lambdify(x, f, 'numpy')"
   ]
  },
  {
   "cell_type": "code",
   "execution_count": 67,
   "metadata": {},
   "outputs": [
    {
     "name": "stdout",
     "output_type": "stream",
     "text": [
      "Help on function lambdify in module sympy.utilities.lambdify:\n",
      "\n",
      "lambdify(args, expr, modules=None, printer=None, use_imps=True, dummify=False)\n",
      "    Translates a SymPy expression into an equivalent numeric function\n",
      "    \n",
      "    For example, to convert the SymPy expression ``sin(x) + cos(x)`` to an\n",
      "    equivalent NumPy function that numerically evaluates it:\n",
      "    \n",
      "    >>> from sympy import sin, cos, symbols, lambdify\n",
      "    >>> import numpy as np\n",
      "    >>> x = symbols('x')\n",
      "    >>> expr = sin(x) + cos(x)\n",
      "    >>> expr\n",
      "    sin(x) + cos(x)\n",
      "    >>> f = lambdify(x, expr, 'numpy')\n",
      "    >>> a = np.array([1, 2])\n",
      "    >>> f(a)\n",
      "    [1.38177329 0.49315059]\n",
      "    \n",
      "    The primary purpose of this function is to provide a bridge from SymPy\n",
      "    expressions to numerical libraries such as NumPy, SciPy, NumExpr, mpmath,\n",
      "    and tensorflow. In general, SymPy functions do not work with objects from\n",
      "    other libraries, such as NumPy arrays, and functions from numeric\n",
      "    libraries like NumPy or mpmath do not work on SymPy expressions.\n",
      "    ``lambdify`` bridges the two by converting a SymPy expression to an\n",
      "    equivalent numeric function.\n",
      "    \n",
      "    The basic workflow with ``lambdify`` is to first create a SymPy expression\n",
      "    representing whatever mathematical function you wish to evaluate. This\n",
      "    should be done using only SymPy functions and expressions. Then, use\n",
      "    ``lambdify`` to convert this to an equivalent function for numerical\n",
      "    evaluation. For instance, above we created ``expr`` using the SymPy symbol\n",
      "    ``x`` and SymPy functions ``sin`` and ``cos``, then converted it to an\n",
      "    equivalent NumPy function ``f``, and called it on a NumPy array ``a``.\n",
      "    \n",
      "    .. warning::\n",
      "       This function uses ``exec``, and thus shouldn't be used on unsanitized\n",
      "       input.\n",
      "    \n",
      "    Arguments\n",
      "    =========\n",
      "    \n",
      "    The first argument of ``lambdify`` is a variable or list of variables in\n",
      "    the expression. Variable lists may be nested. Variables can be Symbols,\n",
      "    undefined functions, or matrix symbols. The order and nesting of the\n",
      "    variables corresponds to the order and nesting of the parameters passed to\n",
      "    the lambdified function. For instance,\n",
      "    \n",
      "    >>> from sympy.abc import x, y, z\n",
      "    >>> f = lambdify([x, (y, z)], x + y + z)\n",
      "    >>> f(1, (2, 3))\n",
      "    6\n",
      "    \n",
      "    The second argument of ``lambdify`` is the expression, list of\n",
      "    expressions, or matrix to be evaluated. Lists may be nested. If the\n",
      "    expression is a list, the output will also be a list.\n",
      "    \n",
      "    >>> f = lambdify(x, [x, [x + 1, x + 2]])\n",
      "    >>> f(1)\n",
      "    [1, [2, 3]]\n",
      "    \n",
      "    If it is a matrix, an array will be returned (for the NumPy module).\n",
      "    \n",
      "    >>> from sympy import Matrix\n",
      "    >>> f = lambdify(x, Matrix([x, x + 1]))\n",
      "    >>> f(1)\n",
      "    [[1]\n",
      "     [2]]\n",
      "    \n",
      "    Note that the argument order here, variables then expression, is used to\n",
      "    emulate the Python ``lambda`` keyword. ``lambdify(x, expr)`` works\n",
      "    (roughly) like ``lambda x: expr`` (see :ref:`lambdify-how-it-works` below).\n",
      "    \n",
      "    The third argument, ``modules`` is optional. If not specified, ``modules``\n",
      "    defaults to ``[\"scipy\", \"numpy\"]`` if SciPy is installed, ``[\"numpy\"]`` if\n",
      "    only NumPy is installed, and ``[\"math\", \"mpmath\", \"sympy\"]`` if neither is\n",
      "    installed. That is, SymPy functions are replaced as far as possible by\n",
      "    either ``scipy`` or ``numpy`` functions if available, and Python's\n",
      "    standard library ``math``, or ``mpmath`` functions otherwise.\n",
      "    \n",
      "    ``modules`` can be one of the following types\n",
      "    \n",
      "     - the strings ``\"math\"``, ``\"mpmath\"``, ``\"numpy\"``, ``\"numexpr\"``,\n",
      "       ``\"scipy\"``, ``\"sympy\"``, or ``\"tensorflow\"``. This uses the\n",
      "       corresponding printer and namespace mapping for that module.\n",
      "     - a module (e.g., ``math``). This uses the global namespace of the\n",
      "       module. If the module is one of the above known modules, it will also\n",
      "       use the corresponding printer and namespace mapping (i.e.,\n",
      "       ``modules=numpy`` is equivalent to ``modules=\"numpy\"``).\n",
      "     - a dictionary that maps names of SymPy functions to arbitrary functions\n",
      "       (e.g., ``{'sin': custom_sin}``).\n",
      "     - a list that contains a mix of the arguments above, with higher priority\n",
      "       given to entries appearing first (e.g., to use the NumPy module but\n",
      "       override the ``sin`` function with a custom version, you can use\n",
      "       ``[{'sin': custom_sin}, 'numpy']``).\n",
      "    \n",
      "    The ``dummify`` keyword argument controls whether or not the variables in\n",
      "    the provided expression that are not valid Python identifiers are\n",
      "    substituted with dummy symbols. This allows for undefined functions like\n",
      "    ``Function('f')(t)`` to be supplied as arguments. By default, the\n",
      "    variables are only dummified if they are not valid Python identifiers. Set\n",
      "    ``dummify=True`` to replace all arguments with dummy symbols (if ``args``\n",
      "    is not a string) - for example, to ensure that the arguments do not\n",
      "    redefine any built-in names.\n",
      "    \n",
      "    .. _lambdify-how-it-works:\n",
      "    \n",
      "    How it works\n",
      "    ============\n",
      "    \n",
      "    When using this function, it helps a great deal to have an idea of what it\n",
      "    is doing. At its core, lambdify is nothing more than a namespace\n",
      "    translation, on top of a special printer that makes some corner cases work\n",
      "    properly.\n",
      "    \n",
      "    To understand lambdify, first we must properly understand how Python\n",
      "    namespaces work. Say we had two files. One called ``sin_cos_sympy.py``,\n",
      "    with\n",
      "    \n",
      "    .. code:: python\n",
      "    \n",
      "        # sin_cos_sympy.py\n",
      "    \n",
      "        from sympy import sin, cos\n",
      "    \n",
      "        def sin_cos(x):\n",
      "            return sin(x) + cos(x)\n",
      "    \n",
      "    \n",
      "    and one called ``sin_cos_numpy.py`` with\n",
      "    \n",
      "    .. code:: python\n",
      "    \n",
      "        # sin_cos_numpy.py\n",
      "    \n",
      "        from numpy import sin, cos\n",
      "    \n",
      "        def sin_cos(x):\n",
      "            return sin(x) + cos(x)\n",
      "    \n",
      "    The two files define an identical function ``sin_cos``. However, in the\n",
      "    first file, ``sin`` and ``cos`` are defined as the SymPy ``sin`` and\n",
      "    ``cos``. In the second, they are defined as the NumPy versions.\n",
      "    \n",
      "    If we were to import the first file and use the ``sin_cos`` function, we\n",
      "    would get something like\n",
      "    \n",
      "    >>> from sin_cos_sympy import sin_cos # doctest: +SKIP\n",
      "    >>> sin_cos(1) # doctest: +SKIP\n",
      "    cos(1) + sin(1)\n",
      "    \n",
      "    On the other hand, if we imported ``sin_cos`` from the second file, we\n",
      "    would get\n",
      "    \n",
      "    >>> from sin_cos_numpy import sin_cos # doctest: +SKIP\n",
      "    >>> sin_cos(1) # doctest: +SKIP\n",
      "    1.38177329068\n",
      "    \n",
      "    In the first case we got a symbolic output, because it used the symbolic\n",
      "    ``sin`` and ``cos`` functions from SymPy. In the second, we got a numeric\n",
      "    result, because ``sin_cos`` used the numeric ``sin`` and ``cos`` functions\n",
      "    from NumPy. But notice that the versions of ``sin`` and ``cos`` that were\n",
      "    used was not inherent to the ``sin_cos`` function definition. Both\n",
      "    ``sin_cos`` definitions are exactly the same. Rather, it was based on the\n",
      "    names defined at the module where the ``sin_cos`` function was defined.\n",
      "    \n",
      "    The key point here is that when function in Python references a name that\n",
      "    is not defined in the function, that name is looked up in the \"global\"\n",
      "    namespace of the module where that function is defined.\n",
      "    \n",
      "    Now, in Python, we can emulate this behavior without actually writing a\n",
      "    file to disk using the ``exec`` function. ``exec`` takes a string\n",
      "    containing a block of Python code, and a dictionary that should contain\n",
      "    the global variables of the module. It then executes the code \"in\" that\n",
      "    dictionary, as if it were the module globals. The following is equivalent\n",
      "    to the ``sin_cos`` defined in ``sin_cos_sympy.py``:\n",
      "    \n",
      "    >>> import sympy\n",
      "    >>> module_dictionary = {'sin': sympy.sin, 'cos': sympy.cos}\n",
      "    >>> exec('''\n",
      "    ... def sin_cos(x):\n",
      "    ...     return sin(x) + cos(x)\n",
      "    ... ''', module_dictionary)\n",
      "    >>> sin_cos = module_dictionary['sin_cos']\n",
      "    >>> sin_cos(1)\n",
      "    cos(1) + sin(1)\n",
      "    \n",
      "    and similarly with ``sin_cos_numpy``:\n",
      "    \n",
      "    >>> import numpy\n",
      "    >>> module_dictionary = {'sin': numpy.sin, 'cos': numpy.cos}\n",
      "    >>> exec('''\n",
      "    ... def sin_cos(x):\n",
      "    ...     return sin(x) + cos(x)\n",
      "    ... ''', module_dictionary)\n",
      "    >>> sin_cos = module_dictionary['sin_cos']\n",
      "    >>> sin_cos(1)\n",
      "    1.38177329068\n",
      "    \n",
      "    So now we can get an idea of how ``lambdify`` works. The name \"lambdify\"\n",
      "    comes from the fact that we can think of something like ``lambdify(x,\n",
      "    sin(x) + cos(x), 'numpy')`` as ``lambda x: sin(x) + cos(x)``, where\n",
      "    ``sin`` and ``cos`` come from the ``numpy`` namespace. This is also why\n",
      "    the symbols argument is first in ``lambdify``, as opposed to most SymPy\n",
      "    functions where it comes after the expression: to better mimic the\n",
      "    ``lambda`` keyword.\n",
      "    \n",
      "    ``lambdify`` takes the input expression (like ``sin(x) + cos(x)``) and\n",
      "    \n",
      "    1. Converts it to a string\n",
      "    2. Creates a module globals dictionary based on the modules that are\n",
      "       passed in (by default, it uses the NumPy module)\n",
      "    3. Creates the string ``\"def func({vars}): return {expr}\"``, where ``{vars}`` is the\n",
      "       list of variables separated by commas, and ``{expr}`` is the string\n",
      "       created in step 1., then ``exec``s that string with the module globals\n",
      "       namespace and returns ``func``.\n",
      "    \n",
      "    In fact, functions returned by ``lambdify`` support inspection. So you can\n",
      "    see exactly how they are defined by using ``inspect.getsource``, or ``??`` if you\n",
      "    are using IPython or the Jupyter notebook.\n",
      "    \n",
      "    >>> f = lambdify(x, sin(x) + cos(x))\n",
      "    >>> import inspect\n",
      "    >>> print(inspect.getsource(f))\n",
      "    def _lambdifygenerated(x):\n",
      "        return (sin(x) + cos(x))\n",
      "    \n",
      "    This shows us the source code of the function, but not the namespace it\n",
      "    was defined in. We can inspect that by looking at the ``__globals__``\n",
      "    attribute of ``f``:\n",
      "    \n",
      "    >>> f.__globals__['sin']\n",
      "    <ufunc 'sin'>\n",
      "    >>> f.__globals__['cos']\n",
      "    <ufunc 'cos'>\n",
      "    >>> f.__globals__['sin'] is numpy.sin\n",
      "    True\n",
      "    \n",
      "    This shows us that ``sin`` and ``cos`` in the namespace of ``f`` will be\n",
      "    ``numpy.sin`` and ``numpy.cos``.\n",
      "    \n",
      "    Note that there are some convenience layers in each of these steps, but at\n",
      "    the core, this is how ``lambdify`` works. Step 1 is done using the\n",
      "    ``LambdaPrinter`` printers defined in the printing module (see\n",
      "    :mod:`sympy.printing.lambdarepr`). This allows different SymPy expressions\n",
      "    to define how they should be converted to a string for different modules.\n",
      "    You can change which printer ``lambdify`` uses by passing a custom printer\n",
      "    in to the ``printer`` argument.\n",
      "    \n",
      "    Step 2 is augmented by certain translations. There are default\n",
      "    translations for each module, but you can provide your own by passing a\n",
      "    list to the ``modules`` argument. For instance,\n",
      "    \n",
      "    >>> def mysin(x):\n",
      "    ...     print('taking the sin of', x)\n",
      "    ...     return numpy.sin(x)\n",
      "    ...\n",
      "    >>> f = lambdify(x, sin(x), [{'sin': mysin}, 'numpy'])\n",
      "    >>> f(1)\n",
      "    taking the sin of 1\n",
      "    0.8414709848078965\n",
      "    \n",
      "    The globals dictionary is generated from the list by merging the\n",
      "    dictionary ``{'sin': mysin}`` and the module dictionary for NumPy. The\n",
      "    merging is done so that earlier items take precedence, which is why\n",
      "    ``mysin`` is used above instead of ``numpy.sin``.\n",
      "    \n",
      "    If you want to modify the way ``lambdify`` works for a given function, it\n",
      "    is usually easiest to do so by modifying the globals dictionary as such.\n",
      "    In more complicated cases, it may be necessary to create and pass in a\n",
      "    custom printer.\n",
      "    \n",
      "    Finally, step 3 is augmented with certain convenience operations, such as\n",
      "    the addition of a docstring.\n",
      "    \n",
      "    Understanding how ``lambdify`` works can make it easier to avoid certain\n",
      "    gotchas when using it. For instance, a common mistake is to create a\n",
      "    lambdified function for one module (say, NumPy), and pass it objects from\n",
      "    another (say, a SymPy expression).\n",
      "    \n",
      "    For instance, say we create\n",
      "    \n",
      "    >>> from sympy.abc import x\n",
      "    >>> f = lambdify(x, x + 1, 'numpy')\n",
      "    \n",
      "    Now if we pass in a NumPy array, we get that array plus 1\n",
      "    \n",
      "    >>> import numpy\n",
      "    >>> a = numpy.array([1, 2])\n",
      "    >>> f(a)\n",
      "    [2 3]\n",
      "    \n",
      "    But what happens if you make the mistake of passing in a SymPy expression\n",
      "    instead of a NumPy array:\n",
      "    \n",
      "    >>> f(x + 1)\n",
      "    x + 2\n",
      "    \n",
      "    This worked, but it was only by accident. Now take a different lambdified\n",
      "    function:\n",
      "    \n",
      "    >>> from sympy import sin\n",
      "    >>> g = lambdify(x, x + sin(x), 'numpy')\n",
      "    \n",
      "    This works as expected on NumPy arrays:\n",
      "    \n",
      "    >>> g(a)\n",
      "    [1.84147098 2.90929743]\n",
      "    \n",
      "    But if we try to pass in a SymPy expression, it fails\n",
      "    \n",
      "    >>> try:\n",
      "    ...     g(x + 1)\n",
      "    ... # NumPy release after 1.17 raises TypeError instead of\n",
      "    ... # AttributeError\n",
      "    ... except (AttributeError, TypeError):\n",
      "    ...     raise AttributeError() # doctest: +IGNORE_EXCEPTION_DETAIL\n",
      "    Traceback (most recent call last):\n",
      "    ...\n",
      "    AttributeError:\n",
      "    \n",
      "    Now, let's look at what happened. The reason this fails is that ``g``\n",
      "    calls ``numpy.sin`` on the input expression, and ``numpy.sin`` does not\n",
      "    know how to operate on a SymPy object. **As a general rule, NumPy\n",
      "    functions do not know how to operate on SymPy expressions, and SymPy\n",
      "    functions do not know how to operate on NumPy arrays. This is why lambdify\n",
      "    exists: to provide a bridge between SymPy and NumPy.**\n",
      "    \n",
      "    However, why is it that ``f`` did work? That's because ``f`` doesn't call\n",
      "    any functions, it only adds 1. So the resulting function that is created,\n",
      "    ``def _lambdifygenerated(x): return x + 1`` does not depend on the globals\n",
      "    namespace it is defined in. Thus it works, but only by accident. A future\n",
      "    version of ``lambdify`` may remove this behavior.\n",
      "    \n",
      "    Be aware that certain implementation details described here may change in\n",
      "    future versions of SymPy. The API of passing in custom modules and\n",
      "    printers will not change, but the details of how a lambda function is\n",
      "    created may change. However, the basic idea will remain the same, and\n",
      "    understanding it will be helpful to understanding the behavior of\n",
      "    lambdify.\n",
      "    \n",
      "    **In general: you should create lambdified functions for one module (say,\n",
      "    NumPy), and only pass it input types that are compatible with that module\n",
      "    (say, NumPy arrays).** Remember that by default, if the ``module``\n",
      "    argument is not provided, ``lambdify`` creates functions using the NumPy\n",
      "    and SciPy namespaces.\n",
      "    \n",
      "    Examples\n",
      "    ========\n",
      "    \n",
      "    >>> from sympy.utilities.lambdify import implemented_function\n",
      "    >>> from sympy import sqrt, sin, Matrix\n",
      "    >>> from sympy import Function\n",
      "    >>> from sympy.abc import w, x, y, z\n",
      "    \n",
      "    >>> f = lambdify(x, x**2)\n",
      "    >>> f(2)\n",
      "    4\n",
      "    >>> f = lambdify((x, y, z), [z, y, x])\n",
      "    >>> f(1,2,3)\n",
      "    [3, 2, 1]\n",
      "    >>> f = lambdify(x, sqrt(x))\n",
      "    >>> f(4)\n",
      "    2.0\n",
      "    >>> f = lambdify((x, y), sin(x*y)**2)\n",
      "    >>> f(0, 5)\n",
      "    0.0\n",
      "    >>> row = lambdify((x, y), Matrix((x, x + y)).T, modules='sympy')\n",
      "    >>> row(1, 2)\n",
      "    Matrix([[1, 3]])\n",
      "    \n",
      "    ``lambdify`` can be used to translate SymPy expressions into mpmath\n",
      "    functions. This may be preferable to using ``evalf`` (which uses mpmath on\n",
      "    the backend) in some cases.\n",
      "    \n",
      "    >>> import mpmath\n",
      "    >>> f = lambdify(x, sin(x), 'mpmath')\n",
      "    >>> f(1)\n",
      "    0.8414709848078965\n",
      "    \n",
      "    Tuple arguments are handled and the lambdified function should\n",
      "    be called with the same type of arguments as were used to create\n",
      "    the function:\n",
      "    \n",
      "    >>> f = lambdify((x, (y, z)), x + y)\n",
      "    >>> f(1, (2, 4))\n",
      "    3\n",
      "    \n",
      "    The ``flatten`` function can be used to always work with flattened\n",
      "    arguments:\n",
      "    \n",
      "    >>> from sympy.utilities.iterables import flatten\n",
      "    >>> args = w, (x, (y, z))\n",
      "    >>> vals = 1, (2, (3, 4))\n",
      "    >>> f = lambdify(flatten(args), w + x + y + z)\n",
      "    >>> f(*flatten(vals))\n",
      "    10\n",
      "    \n",
      "    Functions present in ``expr`` can also carry their own numerical\n",
      "    implementations, in a callable attached to the ``_imp_`` attribute. This\n",
      "    can be used with undefined functions using the ``implemented_function``\n",
      "    factory:\n",
      "    \n",
      "    >>> f = implemented_function(Function('f'), lambda x: x+1)\n",
      "    >>> func = lambdify(x, f(x))\n",
      "    >>> func(4)\n",
      "    5\n",
      "    \n",
      "    ``lambdify`` always prefers ``_imp_`` implementations to implementations\n",
      "    in other namespaces, unless the ``use_imps`` input parameter is False.\n",
      "    \n",
      "    Usage with Tensorflow:\n",
      "    \n",
      "    >>> import tensorflow as tf\n",
      "    >>> from sympy import Max, sin, lambdify\n",
      "    >>> from sympy.abc import x\n",
      "    \n",
      "    >>> f = Max(x, sin(x))\n",
      "    >>> func = lambdify(x, f, 'tensorflow')\n",
      "    \n",
      "    After tensorflow v2, eager execution is enabled by default.\n",
      "    If you want to get the compatible result across tensorflow v1 and v2\n",
      "    as same as this tutorial, run this line.\n",
      "    \n",
      "    >>> tf.compat.v1.enable_eager_execution()\n",
      "    \n",
      "    If you have eager execution enabled, you can get the result out\n",
      "    immediately as you can use numpy.\n",
      "    \n",
      "    If you pass tensorflow objects, you may get an ``EagerTensor``\n",
      "    object instead of value.\n",
      "    \n",
      "    >>> result = func(tf.constant(1.0))\n",
      "    >>> print(result)\n",
      "    tf.Tensor(1.0, shape=(), dtype=float32)\n",
      "    >>> print(result.__class__)\n",
      "    <class 'tensorflow.python.framework.ops.EagerTensor'>\n",
      "    \n",
      "    You can use ``.numpy()`` to get the numpy value of the tensor.\n",
      "    \n",
      "    >>> result.numpy()\n",
      "    1.0\n",
      "    \n",
      "    >>> var = tf.Variable(2.0)\n",
      "    >>> result = func(var) # also works for tf.Variable and tf.Placeholder\n",
      "    >>> result.numpy()\n",
      "    2.0\n",
      "    \n",
      "    And it works with any shape array.\n",
      "    \n",
      "    >>> tensor = tf.constant([[1.0, 2.0], [3.0, 4.0]])\n",
      "    >>> result = func(tensor)\n",
      "    >>> result.numpy()\n",
      "    [[1. 2.]\n",
      "     [3. 4.]]\n",
      "    \n",
      "    Notes\n",
      "    =====\n",
      "    \n",
      "    - For functions involving large array calculations, numexpr can provide a\n",
      "      significant speedup over numpy. Please note that the available functions\n",
      "      for numexpr are more limited than numpy but can be expanded with\n",
      "      ``implemented_function`` and user defined subclasses of Function. If\n",
      "      specified, numexpr may be the only option in modules. The official list\n",
      "      of numexpr functions can be found at:\n",
      "      https://numexpr.readthedocs.io/en/latest/user_guide.html#supported-functions\n",
      "    \n",
      "    - In previous versions of SymPy, ``lambdify`` replaced ``Matrix`` with\n",
      "      ``numpy.matrix`` by default. As of SymPy 1.0 ``numpy.array`` is the\n",
      "      default. To get the old default behavior you must pass in\n",
      "      ``[{'ImmutableDenseMatrix':  numpy.matrix}, 'numpy']`` to the\n",
      "      ``modules`` kwarg.\n",
      "    \n",
      "      >>> from sympy import lambdify, Matrix\n",
      "      >>> from sympy.abc import x, y\n",
      "      >>> import numpy\n",
      "      >>> array2mat = [{'ImmutableDenseMatrix': numpy.matrix}, 'numpy']\n",
      "      >>> f = lambdify((x, y), Matrix([x, y]), modules=array2mat)\n",
      "      >>> f(1, 2)\n",
      "      [[1]\n",
      "       [2]]\n",
      "    \n",
      "    - In the above examples, the generated functions can accept scalar\n",
      "      values or numpy arrays as arguments.  However, in some cases\n",
      "      the generated function relies on the input being a numpy array:\n",
      "    \n",
      "      >>> from sympy import Piecewise\n",
      "      >>> from sympy.utilities.pytest import ignore_warnings\n",
      "      >>> f = lambdify(x, Piecewise((x, x <= 1), (1/x, x > 1)), \"numpy\")\n",
      "    \n",
      "      >>> with ignore_warnings(RuntimeWarning):\n",
      "      ...     f(numpy.array([-1, 0, 1, 2]))\n",
      "      [-1.   0.   1.   0.5]\n",
      "    \n",
      "      >>> f(0)\n",
      "      Traceback (most recent call last):\n",
      "          ...\n",
      "      ZeroDivisionError: division by zero\n",
      "    \n",
      "      In such cases, the input should be wrapped in a numpy array:\n",
      "    \n",
      "      >>> with ignore_warnings(RuntimeWarning):\n",
      "      ...     float(f(numpy.array([0])))\n",
      "      0.0\n",
      "    \n",
      "      Or if numpy functionality is not required another module can be used:\n",
      "    \n",
      "      >>> f = lambdify(x, Piecewise((x, x <= 1), (1/x, x > 1)), \"math\")\n",
      "      >>> f(0)\n",
      "      0\n",
      "\n"
     ]
    }
   ],
   "source": [
    "help(sym.lambdify)"
   ]
  },
  {
   "cell_type": "code",
   "execution_count": 68,
   "metadata": {},
   "outputs": [
    {
     "data": {
      "text/latex": [
       "$\\displaystyle x^{2}$"
      ],
      "text/plain": [
       " 2\n",
       "x "
      ]
     },
     "execution_count": 68,
     "metadata": {},
     "output_type": "execute_result"
    }
   ],
   "source": [
    "f"
   ]
  },
  {
   "cell_type": "code",
   "execution_count": 69,
   "metadata": {},
   "outputs": [
    {
     "ename": "TypeError",
     "evalue": "'Pow' object is not callable",
     "output_type": "error",
     "traceback": [
      "\u001b[0;31m---------------------------------------------------------------------------\u001b[0m",
      "\u001b[0;31mTypeError\u001b[0m                                 Traceback (most recent call last)",
      "\u001b[0;32m<ipython-input-69-442218de3cba>\u001b[0m in \u001b[0;36m<module>\u001b[0;34m\u001b[0m\n\u001b[0;32m----> 1\u001b[0;31m \u001b[0mf\u001b[0m\u001b[0;34m(\u001b[0m\u001b[0;36m10\u001b[0m\u001b[0;34m)\u001b[0m\u001b[0;34m\u001b[0m\u001b[0;34m\u001b[0m\u001b[0m\n\u001b[0m",
      "\u001b[0;31mTypeError\u001b[0m: 'Pow' object is not callable"
     ]
    }
   ],
   "source": [
    "# f es una expresión simbólica y no se puede evaluar\n",
    "f(10)"
   ]
  },
  {
   "cell_type": "code",
   "execution_count": 72,
   "metadata": {},
   "outputs": [
    {
     "data": {
      "text/latex": [
       "$\\displaystyle 100$"
      ],
      "text/plain": [
       "100"
      ]
     },
     "execution_count": 72,
     "metadata": {},
     "output_type": "execute_result"
    }
   ],
   "source": [
    "# f_num sí se puede evaluar\n",
    "f_num(10)"
   ]
  },
  {
   "cell_type": "code",
   "execution_count": 73,
   "metadata": {
    "scrolled": true
   },
   "outputs": [
    {
     "name": "stdout",
     "output_type": "stream",
     "text": [
      "Help on function linspace in module numpy:\n",
      "\n",
      "linspace(start, stop, num=50, endpoint=True, retstep=False, dtype=None, axis=0)\n",
      "    Return evenly spaced numbers over a specified interval.\n",
      "    \n",
      "    Returns `num` evenly spaced samples, calculated over the\n",
      "    interval [`start`, `stop`].\n",
      "    \n",
      "    The endpoint of the interval can optionally be excluded.\n",
      "    \n",
      "    .. versionchanged:: 1.16.0\n",
      "        Non-scalar `start` and `stop` are now supported.\n",
      "    \n",
      "    Parameters\n",
      "    ----------\n",
      "    start : array_like\n",
      "        The starting value of the sequence.\n",
      "    stop : array_like\n",
      "        The end value of the sequence, unless `endpoint` is set to False.\n",
      "        In that case, the sequence consists of all but the last of ``num + 1``\n",
      "        evenly spaced samples, so that `stop` is excluded.  Note that the step\n",
      "        size changes when `endpoint` is False.\n",
      "    num : int, optional\n",
      "        Number of samples to generate. Default is 50. Must be non-negative.\n",
      "    endpoint : bool, optional\n",
      "        If True, `stop` is the last sample. Otherwise, it is not included.\n",
      "        Default is True.\n",
      "    retstep : bool, optional\n",
      "        If True, return (`samples`, `step`), where `step` is the spacing\n",
      "        between samples.\n",
      "    dtype : dtype, optional\n",
      "        The type of the output array.  If `dtype` is not given, infer the data\n",
      "        type from the other input arguments.\n",
      "    \n",
      "        .. versionadded:: 1.9.0\n",
      "    \n",
      "    axis : int, optional\n",
      "        The axis in the result to store the samples.  Relevant only if start\n",
      "        or stop are array-like.  By default (0), the samples will be along a\n",
      "        new axis inserted at the beginning. Use -1 to get an axis at the end.\n",
      "    \n",
      "        .. versionadded:: 1.16.0\n",
      "    \n",
      "    Returns\n",
      "    -------\n",
      "    samples : ndarray\n",
      "        There are `num` equally spaced samples in the closed interval\n",
      "        ``[start, stop]`` or the half-open interval ``[start, stop)``\n",
      "        (depending on whether `endpoint` is True or False).\n",
      "    step : float, optional\n",
      "        Only returned if `retstep` is True\n",
      "    \n",
      "        Size of spacing between samples.\n",
      "    \n",
      "    \n",
      "    See Also\n",
      "    --------\n",
      "    arange : Similar to `linspace`, but uses a step size (instead of the\n",
      "             number of samples).\n",
      "    geomspace : Similar to `linspace`, but with numbers spaced evenly on a log\n",
      "                scale (a geometric progression).\n",
      "    logspace : Similar to `geomspace`, but with the end points specified as\n",
      "               logarithms.\n",
      "    \n",
      "    Examples\n",
      "    --------\n",
      "    >>> np.linspace(2.0, 3.0, num=5)\n",
      "    array([2.  , 2.25, 2.5 , 2.75, 3.  ])\n",
      "    >>> np.linspace(2.0, 3.0, num=5, endpoint=False)\n",
      "    array([2. ,  2.2,  2.4,  2.6,  2.8])\n",
      "    >>> np.linspace(2.0, 3.0, num=5, retstep=True)\n",
      "    (array([2.  ,  2.25,  2.5 ,  2.75,  3.  ]), 0.25)\n",
      "    \n",
      "    Graphical illustration:\n",
      "    \n",
      "    >>> import matplotlib.pyplot as plt\n",
      "    >>> N = 8\n",
      "    >>> y = np.zeros(N)\n",
      "    >>> x1 = np.linspace(0, 10, N, endpoint=True)\n",
      "    >>> x2 = np.linspace(0, 10, N, endpoint=False)\n",
      "    >>> plt.plot(x1, y, 'o')\n",
      "    [<matplotlib.lines.Line2D object at 0x...>]\n",
      "    >>> plt.plot(x2, y + 0.5, 'o')\n",
      "    [<matplotlib.lines.Line2D object at 0x...>]\n",
      "    >>> plt.ylim([-0.5, 1])\n",
      "    (-0.5, 1)\n",
      "    >>> plt.show()\n",
      "\n"
     ]
    }
   ],
   "source": [
    "help(np.linspace)"
   ]
  },
  {
   "cell_type": "code",
   "execution_count": 74,
   "metadata": {
    "scrolled": false
   },
   "outputs": [
    {
     "data": {
      "text/plain": [
       "array([-10.        ,  -9.7979798 ,  -9.5959596 ,  -9.39393939,\n",
       "        -9.19191919,  -8.98989899,  -8.78787879,  -8.58585859,\n",
       "        -8.38383838,  -8.18181818,  -7.97979798,  -7.77777778,\n",
       "        -7.57575758,  -7.37373737,  -7.17171717,  -6.96969697,\n",
       "        -6.76767677,  -6.56565657,  -6.36363636,  -6.16161616,\n",
       "        -5.95959596,  -5.75757576,  -5.55555556,  -5.35353535,\n",
       "        -5.15151515,  -4.94949495,  -4.74747475,  -4.54545455,\n",
       "        -4.34343434,  -4.14141414,  -3.93939394,  -3.73737374,\n",
       "        -3.53535354,  -3.33333333,  -3.13131313,  -2.92929293,\n",
       "        -2.72727273,  -2.52525253,  -2.32323232,  -2.12121212,\n",
       "        -1.91919192,  -1.71717172,  -1.51515152,  -1.31313131,\n",
       "        -1.11111111,  -0.90909091,  -0.70707071,  -0.50505051,\n",
       "        -0.3030303 ,  -0.1010101 ,   0.1010101 ,   0.3030303 ,\n",
       "         0.50505051,   0.70707071,   0.90909091,   1.11111111,\n",
       "         1.31313131,   1.51515152,   1.71717172,   1.91919192,\n",
       "         2.12121212,   2.32323232,   2.52525253,   2.72727273,\n",
       "         2.92929293,   3.13131313,   3.33333333,   3.53535354,\n",
       "         3.73737374,   3.93939394,   4.14141414,   4.34343434,\n",
       "         4.54545455,   4.74747475,   4.94949495,   5.15151515,\n",
       "         5.35353535,   5.55555556,   5.75757576,   5.95959596,\n",
       "         6.16161616,   6.36363636,   6.56565657,   6.76767677,\n",
       "         6.96969697,   7.17171717,   7.37373737,   7.57575758,\n",
       "         7.77777778,   7.97979798,   8.18181818,   8.38383838,\n",
       "         8.58585859,   8.78787879,   8.98989899,   9.19191919,\n",
       "         9.39393939,   9.5959596 ,   9.7979798 ,  10.        ])"
      ]
     },
     "execution_count": 74,
     "metadata": {},
     "output_type": "execute_result"
    }
   ],
   "source": [
    "# Coordenadas x (abscisas)\n",
    "x_num = np.linspace(-10, 10, 100)\n",
    "x_num"
   ]
  },
  {
   "cell_type": "code",
   "execution_count": 75,
   "metadata": {},
   "outputs": [
    {
     "data": {
      "text/plain": [
       "array([1.00000000e+02, 9.60004081e+01, 9.20824406e+01, 8.82460973e+01,\n",
       "       8.44913784e+01, 8.08182838e+01, 7.72268136e+01, 7.37169677e+01,\n",
       "       7.02887460e+01, 6.69421488e+01, 6.36771758e+01, 6.04938272e+01,\n",
       "       5.73921028e+01, 5.43720029e+01, 5.14335272e+01, 4.85766758e+01,\n",
       "       4.58014488e+01, 4.31078461e+01, 4.04958678e+01, 3.79655137e+01,\n",
       "       3.55167840e+01, 3.31496786e+01, 3.08641975e+01, 2.86603408e+01,\n",
       "       2.65381084e+01, 2.44975003e+01, 2.25385165e+01, 2.06611570e+01,\n",
       "       1.88654219e+01, 1.71513111e+01, 1.55188246e+01, 1.39679625e+01,\n",
       "       1.24987246e+01, 1.11111111e+01, 9.80512193e+00, 8.58075707e+00,\n",
       "       7.43801653e+00, 6.37690032e+00, 5.39740843e+00, 4.49954086e+00,\n",
       "       3.68329762e+00, 2.94867871e+00, 2.29568411e+00, 1.72431385e+00,\n",
       "       1.23456790e+00, 8.26446281e-01, 4.99948985e-01, 2.55076013e-01,\n",
       "       9.18273646e-02, 1.02030405e-02, 1.02030405e-02, 9.18273646e-02,\n",
       "       2.55076013e-01, 4.99948985e-01, 8.26446281e-01, 1.23456790e+00,\n",
       "       1.72431385e+00, 2.29568411e+00, 2.94867871e+00, 3.68329762e+00,\n",
       "       4.49954086e+00, 5.39740843e+00, 6.37690032e+00, 7.43801653e+00,\n",
       "       8.58075707e+00, 9.80512193e+00, 1.11111111e+01, 1.24987246e+01,\n",
       "       1.39679625e+01, 1.55188246e+01, 1.71513111e+01, 1.88654219e+01,\n",
       "       2.06611570e+01, 2.25385165e+01, 2.44975003e+01, 2.65381084e+01,\n",
       "       2.86603408e+01, 3.08641975e+01, 3.31496786e+01, 3.55167840e+01,\n",
       "       3.79655137e+01, 4.04958678e+01, 4.31078461e+01, 4.58014488e+01,\n",
       "       4.85766758e+01, 5.14335272e+01, 5.43720029e+01, 5.73921028e+01,\n",
       "       6.04938272e+01, 6.36771758e+01, 6.69421488e+01, 7.02887460e+01,\n",
       "       7.37169677e+01, 7.72268136e+01, 8.08182838e+01, 8.44913784e+01,\n",
       "       8.82460973e+01, 9.20824406e+01, 9.60004081e+01, 1.00000000e+02])"
      ]
     },
     "execution_count": 75,
     "metadata": {},
     "output_type": "execute_result"
    }
   ],
   "source": [
    "y_num = f_num(x_num)\n",
    "y_num"
   ]
  },
  {
   "cell_type": "code",
   "execution_count": 81,
   "metadata": {},
   "outputs": [
    {
     "data": {
      "image/png": "[encoded data removed]",
      "text/plain": [
       "<Figure size 432x288 with 1 Axes>"
      ]
     },
     "metadata": {
      "needs_background": "light"
     },
     "output_type": "display_data"
    }
   ],
   "source": [
    "# graficar\n",
    "# Crear ventana de graficos y damos medidas de la ventana\n",
    "plt.figure(figsize=(6, 4))\n",
    "# Sirve para hacer el grafico y determinar sus caracteristicas\n",
    "plt.plot(x_num, y_num, label='$f(x)=x^2$')\n",
    "# Punto de mínimo\n",
    "plt.plot(0, f_num(0), 'o', label='Mínimo de $f(x)$')\n",
    "# Los signos de $ son para escribir expresiones matemáticas\n",
    "# Nombre del eje x de la grafica\n",
    "plt.xlabel('$x$')\n",
    "# Nombre del eje y\n",
    "plt.ylabel('$y$')\n",
    "# Sirve para poner las etiquetas de las graficas\n",
    "plt.legend()\n",
    "# Sirve para poner la cuadricula\n",
    "plt.grid()"
   ]
  },
  {
   "cell_type": "markdown",
   "metadata": {},
   "source": [
    "**Otra manera de hacer lo anterior**\n",
    "\n",
    "Concepto de función..."
   ]
  },
  {
   "cell_type": "code",
   "execution_count": 82,
   "metadata": {},
   "outputs": [],
   "source": [
    "# Concepto de función\n",
    "# def nombre_de_la_funcion(argumento[s]):\n",
    "#     --> Operación 1\n",
    "#     --> Operación 2\n",
    "#     --> ...\n",
    "#     --> Operación N\n",
    "#     return [lo que vaya a devolver]\n",
    "def cuadrado(x):\n",
    "    return x**2"
   ]
  },
  {
   "cell_type": "code",
   "execution_count": 83,
   "metadata": {},
   "outputs": [
    {
     "data": {
      "text/latex": [
       "$\\displaystyle x^{2}$"
      ],
      "text/plain": [
       " 2\n",
       "x "
      ]
     },
     "execution_count": 83,
     "metadata": {},
     "output_type": "execute_result"
    }
   ],
   "source": [
    "cuadrado(x)"
   ]
  },
  {
   "cell_type": "code",
   "execution_count": 84,
   "metadata": {},
   "outputs": [
    {
     "data": {
      "text/plain": [
       "array([1.00000000e+02, 9.60004081e+01, 9.20824406e+01, 8.82460973e+01,\n",
       "       8.44913784e+01, 8.08182838e+01, 7.72268136e+01, 7.37169677e+01,\n",
       "       7.02887460e+01, 6.69421488e+01, 6.36771758e+01, 6.04938272e+01,\n",
       "       5.73921028e+01, 5.43720029e+01, 5.14335272e+01, 4.85766758e+01,\n",
       "       4.58014488e+01, 4.31078461e+01, 4.04958678e+01, 3.79655137e+01,\n",
       "       3.55167840e+01, 3.31496786e+01, 3.08641975e+01, 2.86603408e+01,\n",
       "       2.65381084e+01, 2.44975003e+01, 2.25385165e+01, 2.06611570e+01,\n",
       "       1.88654219e+01, 1.71513111e+01, 1.55188246e+01, 1.39679625e+01,\n",
       "       1.24987246e+01, 1.11111111e+01, 9.80512193e+00, 8.58075707e+00,\n",
       "       7.43801653e+00, 6.37690032e+00, 5.39740843e+00, 4.49954086e+00,\n",
       "       3.68329762e+00, 2.94867871e+00, 2.29568411e+00, 1.72431385e+00,\n",
       "       1.23456790e+00, 8.26446281e-01, 4.99948985e-01, 2.55076013e-01,\n",
       "       9.18273646e-02, 1.02030405e-02, 1.02030405e-02, 9.18273646e-02,\n",
       "       2.55076013e-01, 4.99948985e-01, 8.26446281e-01, 1.23456790e+00,\n",
       "       1.72431385e+00, 2.29568411e+00, 2.94867871e+00, 3.68329762e+00,\n",
       "       4.49954086e+00, 5.39740843e+00, 6.37690032e+00, 7.43801653e+00,\n",
       "       8.58075707e+00, 9.80512193e+00, 1.11111111e+01, 1.24987246e+01,\n",
       "       1.39679625e+01, 1.55188246e+01, 1.71513111e+01, 1.88654219e+01,\n",
       "       2.06611570e+01, 2.25385165e+01, 2.44975003e+01, 2.65381084e+01,\n",
       "       2.86603408e+01, 3.08641975e+01, 3.31496786e+01, 3.55167840e+01,\n",
       "       3.79655137e+01, 4.04958678e+01, 4.31078461e+01, 4.58014488e+01,\n",
       "       4.85766758e+01, 5.14335272e+01, 5.43720029e+01, 5.73921028e+01,\n",
       "       6.04938272e+01, 6.36771758e+01, 6.69421488e+01, 7.02887460e+01,\n",
       "       7.37169677e+01, 7.72268136e+01, 8.08182838e+01, 8.44913784e+01,\n",
       "       8.82460973e+01, 9.20824406e+01, 9.60004081e+01, 1.00000000e+02])"
      ]
     },
     "execution_count": 84,
     "metadata": {},
     "output_type": "execute_result"
    }
   ],
   "source": [
    "cuadrado(x_num)"
   ]
  },
  {
   "cell_type": "code",
   "execution_count": 85,
   "metadata": {},
   "outputs": [
    {
     "data": {
      "text/latex": [
       "$\\displaystyle 2 x$"
      ],
      "text/plain": [
       "2⋅x"
      ]
     },
     "execution_count": 85,
     "metadata": {},
     "output_type": "execute_result"
    }
   ],
   "source": [
    "dcuadrado = sym.diff(cuadrado(x), x)\n",
    "dcuadrado"
   ]
  },
  {
   "cell_type": "code",
   "execution_count": 86,
   "metadata": {},
   "outputs": [
    {
     "data": {
      "text/latex": [
       "$\\displaystyle \\left[ 0\\right]$"
      ],
      "text/plain": [
       "[0]"
      ]
     },
     "execution_count": 86,
     "metadata": {},
     "output_type": "execute_result"
    }
   ],
   "source": [
    "sol = sym.solve(dcuadrado, x)\n",
    "sol"
   ]
  },
  {
   "cell_type": "code",
   "execution_count": 88,
   "metadata": {},
   "outputs": [
    {
     "data": {
      "image/png": "[encoded data removed]",
      "text/plain": [
       "<Figure size 432x288 with 1 Axes>"
      ]
     },
     "metadata": {
      "needs_background": "light"
     },
     "output_type": "display_data"
    }
   ],
   "source": [
    "# graficar\n",
    "# Crear ventana de graficos y damos medidas de la ventana\n",
    "plt.figure(figsize=(6, 4))\n",
    "# Sirve para hacer el grafico y determinar sus caracteristicas\n",
    "plt.plot(x_num, cuadrado(x_num), label='$f(x)=x^2$')\n",
    "# Punto de mínimo\n",
    "plt.plot(0, cuadrado(0), 'o', label='Mínimo de $f(x)$')\n",
    "# Los signos de $ son para escribir expresiones matemáticas\n",
    "# Nombre del eje x de la grafica\n",
    "plt.xlabel('$x$')\n",
    "# Nombre del eje y\n",
    "plt.ylabel('$y$')\n",
    "# Sirve para poner las etiquetas de las graficas\n",
    "plt.legend()\n",
    "# Sirve para poner la cuadricula\n",
    "plt.grid()"
   ]
  },
  {
   "cell_type": "markdown",
   "metadata": {},
   "source": [
    "El converso del teorema anterior no es cierto.\n",
    "\n",
    "### Actividad\n",
    "Considere $g(x)=x^3$. \n",
    "- Usando `sympy`, muestre que $g'(0)=0$.\n",
    "- Sin embargo, descartar que $x=0$ es un extremo de $g(x)$ viendo su **gráfica**."
   ]
  },
  {
   "cell_type": "code",
   "execution_count": 89,
   "metadata": {},
   "outputs": [
    {
     "data": {
      "text/latex": [
       "$\\displaystyle x$"
      ],
      "text/plain": [
       "x"
      ]
     },
     "execution_count": 89,
     "metadata": {},
     "output_type": "execute_result"
    }
   ],
   "source": [
    "# Declarar la variable simbolica x\n",
    "sym.var('x')"
   ]
  },
  {
   "cell_type": "code",
   "execution_count": 90,
   "metadata": {},
   "outputs": [],
   "source": [
    "# Definimos funcion g(x)\n",
    "def g(x):\n",
    "    return x**3"
   ]
  },
  {
   "cell_type": "code",
   "execution_count": 91,
   "metadata": {},
   "outputs": [
    {
     "data": {
      "text/latex": [
       "$\\displaystyle 3 x^{2}$"
      ],
      "text/plain": [
       "   2\n",
       "3⋅x "
      ]
     },
     "execution_count": 91,
     "metadata": {},
     "output_type": "execute_result"
    }
   ],
   "source": [
    "# Derivamos g(x)\n",
    "dg = sym.diff(g(x), x)\n",
    "dg"
   ]
  },
  {
   "cell_type": "code",
   "execution_count": 97,
   "metadata": {},
   "outputs": [
    {
     "data": {
      "text/latex": [
       "$\\displaystyle \\left[ 0\\right]$"
      ],
      "text/plain": [
       "[0]"
      ]
     },
     "execution_count": 97,
     "metadata": {},
     "output_type": "execute_result"
    }
   ],
   "source": [
    "# Puntos criticos\n",
    "sol = sym.solve(dg, x)\n",
    "sol"
   ]
  },
  {
   "cell_type": "code",
   "execution_count": 105,
   "metadata": {},
   "outputs": [
    {
     "data": {
      "image/png": "[encoded data removed]",
      "text/plain": [
       "<Figure size 432x288 with 1 Axes>"
      ]
     },
     "metadata": {
      "needs_background": "light"
     },
     "output_type": "display_data"
    }
   ],
   "source": [
    "# graficar\n",
    "x_num = np.linspace(-1, 1, 100)\n",
    "y_num = g(x_num)\n",
    "# Crear ventana de graficos y damos medidas de la ventana\n",
    "plt.figure(figsize=(6, 4))\n",
    "plt.axvline(x=0, color='k')\n",
    "plt.axhline(y=0, color='k')\n",
    "# Sirve para hacer el grafico y determinar sus caracteristicas\n",
    "plt.plot(x_num, y_num, linewidth=3, label='$g(x)=x^3$')\n",
    "plt.plot(0, 0, 'o', markersize=20, label='$(0, 0)$')\n",
    "# Nombre del eje x de la grafica\n",
    "plt.xlabel('$x$')\n",
    "# Nombre del eje y\n",
    "plt.ylabel('$y$')\n",
    "# Sirve para poner las etiquetas de las graficas\n",
    "plt.legend()\n",
    "# Sirve para poner la cuadricula\n",
    "plt.grid()"
   ]
  },
  {
   "cell_type": "markdown",
   "metadata": {},
   "source": [
    "## 2. Criterio de la segunda derivada\n",
    "\n",
    "Sea $f(x)$ una función tal que $f’(c)=0$ y cuya segunda derivada existe en un intervalo abierto que contiene a $c$.\n",
    "- Si $f’’(c)>0$, entonces $f(c)$ es un mínimo relativo.\n",
    "- Si $f’’(c)<0$, entonces $f(c)$ es un máximo relativo.\n",
    "- Si $f’’(c)=0$, entonces el criterio no decide. "
   ]
  },
  {
   "cell_type": "markdown",
   "metadata": {},
   "source": [
    "### Ejemplo\n",
    "\n",
    "Mostrar, usando `sympy`, que la función $f(x)=x^2$ tiene un mínimo relativo en $x=0$.\n",
    "\n",
    "Ya vimos que $f'(0)=0$. Notemos que:"
   ]
  },
  {
   "cell_type": "code",
   "execution_count": null,
   "metadata": {},
   "outputs": [],
   "source": [
    "# Método subs\n"
   ]
  },
  {
   "cell_type": "code",
   "execution_count": null,
   "metadata": {},
   "outputs": [],
   "source": []
  },
  {
   "cell_type": "code",
   "execution_count": null,
   "metadata": {},
   "outputs": [],
   "source": []
  },
  {
   "cell_type": "code",
   "execution_count": null,
   "metadata": {},
   "outputs": [],
   "source": []
  },
  {
   "cell_type": "code",
   "execution_count": null,
   "metadata": {},
   "outputs": [],
   "source": [
    "# Sacamos la segunda derivada\n"
   ]
  },
  {
   "cell_type": "code",
   "execution_count": null,
   "metadata": {},
   "outputs": [],
   "source": []
  },
  {
   "cell_type": "markdown",
   "metadata": {},
   "source": [
    "Por tanto, por el criterio de la segunda derivada, $f(0)=0$ es un mínimo relativo (en efecto, el mínimo global)."
   ]
  },
  {
   "cell_type": "markdown",
   "metadata": {},
   "source": [
    "### Ejemplo\n",
    "¿Qué pasa con $g(x)=x^3$ al intentar utilizar el criterio de la segunda derivada? (usar `sympy`)."
   ]
  },
  {
   "cell_type": "code",
   "execution_count": null,
   "metadata": {},
   "outputs": [],
   "source": [
    "# Definimos la función g(x)=x^3\n"
   ]
  },
  {
   "cell_type": "code",
   "execution_count": null,
   "metadata": {},
   "outputs": [],
   "source": [
    "# Sacamos la derivada de la función g respecto a x g'(x)=3x^2\n"
   ]
  },
  {
   "cell_type": "code",
   "execution_count": null,
   "metadata": {},
   "outputs": [],
   "source": [
    "# Observamos que g'(0)=0 (es un punto crítico)\n"
   ]
  },
  {
   "cell_type": "code",
   "execution_count": null,
   "metadata": {},
   "outputs": [],
   "source": [
    "# Obtenemos la segunda derivada de la función g respecto a x g''(x)=6x\n"
   ]
  },
  {
   "cell_type": "code",
   "execution_count": null,
   "metadata": {},
   "outputs": [],
   "source": [
    "# Evaluamos g''(0)\n"
   ]
  },
  {
   "cell_type": "markdown",
   "metadata": {},
   "source": [
    "Como $g''(0)=0$ entonces el criterio de la segunda derivada no concluye."
   ]
  },
  {
   "cell_type": "markdown",
   "metadata": {},
   "source": [
    "### Actividad\n",
    "\n",
    "¿Qué pasa con $h(x)=x^4$ al intentar utilizar el criterio de la segunda derivada?."
   ]
  },
  {
   "cell_type": "code",
   "execution_count": null,
   "metadata": {},
   "outputs": [],
   "source": []
  },
  {
   "cell_type": "code",
   "execution_count": null,
   "metadata": {},
   "outputs": [],
   "source": []
  },
  {
   "cell_type": "code",
   "execution_count": null,
   "metadata": {},
   "outputs": [],
   "source": []
  },
  {
   "cell_type": "code",
   "execution_count": null,
   "metadata": {},
   "outputs": [],
   "source": []
  },
  {
   "cell_type": "code",
   "execution_count": null,
   "metadata": {},
   "outputs": [],
   "source": []
  },
  {
   "cell_type": "markdown",
   "metadata": {},
   "source": []
  },
  {
   "cell_type": "markdown",
   "metadata": {},
   "source": [
    "## 3. Método para determinar extremos absolutos de una función continua y=f(x) en [a,b] \n",
    "\n",
    "- Determinar todos los valores críticos $c_1, c_2, c_3, \\dots, c_n$ en $(a,b)$.\n",
    "- Evaluar $f$ en todos los valores críticos y en los extremos $x=a$ y $x=b$.\n",
    "- El más grande y el más pequeño de los valores de la lista $f(a), f(b), f(c_1), f(c_2), \\dots, f(c_n)$ son el máximo absoluto y el mínimo absoluto, respectivamente, de f en el intervalo [a,b]."
   ]
  },
  {
   "cell_type": "markdown",
   "metadata": {
    "collapsed": true
   },
   "source": [
    "### Ejemplo\n",
    "\n",
    "Determinar los extremos absolutos de $f(x)=x^2-6x$ en $\\left[0,5\\right]$.\n",
    "\n",
    "Obtenemos los puntos críticos de $f$ en $\\left[0,5\\right]$:"
   ]
  },
  {
   "cell_type": "code",
   "execution_count": null,
   "metadata": {},
   "outputs": [],
   "source": [
    "# Definimos f\n"
   ]
  },
  {
   "cell_type": "code",
   "execution_count": null,
   "metadata": {},
   "outputs": [],
   "source": [
    "# Derivamos f\n"
   ]
  },
  {
   "cell_type": "code",
   "execution_count": null,
   "metadata": {},
   "outputs": [],
   "source": [
    "# Resolver la ecuación f'(x)=0 para encontrar puntos críticos\n"
   ]
  },
  {
   "cell_type": "markdown",
   "metadata": {},
   "source": [
    "Evaluamos $f$ en los extremos y en los puntos críticos:"
   ]
  },
  {
   "cell_type": "code",
   "execution_count": null,
   "metadata": {},
   "outputs": [],
   "source": []
  },
  {
   "cell_type": "markdown",
   "metadata": {},
   "source": [
    "Concluimos que el máximo absoluto de $f$ en $\\left[0,5\\right]$ es $0$ y se alcanza en $x=0$, y que el mínimo absoluto es $-9$ y se alcanza en $x=3$."
   ]
  },
  {
   "cell_type": "code",
   "execution_count": null,
   "metadata": {},
   "outputs": [],
   "source": [
    "# graficar\n",
    "# Crear ventana de graficos y damos medidas de la ventana\n",
    "\n",
    "# Sirve para hacer el grafico y determinar sus caracteristicas\n",
    "\n",
    "# Nombre del eje x de la grafica\n",
    "\n",
    "# Nombre del eje y\n",
    "\n",
    "# Sirve para poner las etiquetas de las graficas\n",
    "\n",
    "# Sirve para poner la cuadricula\n"
   ]
  },
  {
   "cell_type": "markdown",
   "metadata": {},
   "source": [
    "### Actividad\n",
    "Determinar los valores extremos absolutos de $h(x)=x^3-3x$ en $\\left[-2.2,1.8\\right]$, usando `sympy`. Mostrar en una gráfica."
   ]
  },
  {
   "cell_type": "code",
   "execution_count": null,
   "metadata": {},
   "outputs": [],
   "source": []
  },
  {
   "cell_type": "code",
   "execution_count": null,
   "metadata": {},
   "outputs": [],
   "source": []
  },
  {
   "cell_type": "code",
   "execution_count": null,
   "metadata": {},
   "outputs": [],
   "source": []
  },
  {
   "cell_type": "code",
   "execution_count": null,
   "metadata": {},
   "outputs": [],
   "source": []
  },
  {
   "cell_type": "code",
   "execution_count": null,
   "metadata": {},
   "outputs": [],
   "source": []
  },
  {
   "cell_type": "code",
   "execution_count": null,
   "metadata": {},
   "outputs": [],
   "source": []
  },
  {
   "cell_type": "code",
   "execution_count": null,
   "metadata": {},
   "outputs": [],
   "source": []
  },
  {
   "cell_type": "markdown",
   "metadata": {},
   "source": [
    "### En varias variables...\n",
    "\n",
    "El procedimiento es análogo. \n",
    "\n",
    "Si una función $f:\\mathbb{R}^n\\to\\mathbb{R}$ alcanza un máximo o mínimo local en $\\boldsymbol{x}=\\boldsymbol{c}\\in\\mathbb{R}^n$, y $f$ es diferenciable en el punto $\\boldsymbol{x}=\\boldsymbol{c}$, entonces $\\left.\\frac{\\partial f}{\\partial \\boldsymbol{x}}\\right|_{\\boldsymbol{x}=\\boldsymbol{c}}=\\boldsymbol{0}$ (todas las derivadas parciales en el punto $\\boldsymbol{x}=\\boldsymbol{c}$ son cero).\n",
    "\n",
    "**Criterio de la segunda derivada:** para ver si es máximo o mínimo, se toma la segunda derivada (matriz jacobiana) y se verifica definición negativa o positiva, respectivamente.\n",
    "\n",
    "Si se restringe a cierta región, hay ciertas técnicas. La más general, pero también la más compleja es la de **multiplicadores de Lagrange**."
   ]
  },
  {
   "cell_type": "markdown",
   "metadata": {},
   "source": [
    "**Ejemplo:** hacer a mano a la vez para corroborar..."
   ]
  },
  {
   "cell_type": "code",
   "execution_count": null,
   "metadata": {},
   "outputs": [],
   "source": [
    "sym.var('x y')\n",
    "x, y"
   ]
  },
  {
   "cell_type": "code",
   "execution_count": null,
   "metadata": {},
   "outputs": [],
   "source": [
    "def f(x, y):\n",
    "    return x**2 + y**2"
   ]
  },
  {
   "cell_type": "code",
   "execution_count": null,
   "metadata": {},
   "outputs": [],
   "source": [
    "dfx = sym.diff(f(x,y), x)\n",
    "dfy = sym.diff(f(x,y), y)\n",
    "dfx, dfy"
   ]
  },
  {
   "cell_type": "code",
   "execution_count": null,
   "metadata": {},
   "outputs": [],
   "source": [
    "xy_c = sym.solve([dfx, dfy], [x, y])\n",
    "xy_c"
   ]
  },
  {
   "cell_type": "code",
   "execution_count": null,
   "metadata": {},
   "outputs": [],
   "source": [
    "x_c, y_c = xy_c[x], xy_c[y]\n",
    "x_c, y_c"
   ]
  },
  {
   "cell_type": "code",
   "execution_count": null,
   "metadata": {},
   "outputs": [],
   "source": [
    "d2fx = sym.diff(f(x,y), x, 2)\n",
    "d2fy = sym.diff(f(x,y), y, 2)\n",
    "dfxy = sym.diff(f(x,y), x, y)\n",
    "\n",
    "Jf = sym.Matrix([[d2fx, dfxy], [dfxy, d2fy]])\n",
    "Jf.eigenvals()"
   ]
  },
  {
   "cell_type": "code",
   "execution_count": null,
   "metadata": {},
   "outputs": [],
   "source": [
    "import matplotlib.pyplot as plt\n",
    "from mpl_toolkits.mplot3d import Axes3D"
   ]
  },
  {
   "cell_type": "code",
   "execution_count": null,
   "metadata": {},
   "outputs": [],
   "source": [
    "fig = plt.figure()\n",
    "ax = fig.add_subplot(111, projection='3d')\n",
    "\n",
    "x = np.linspace(-2, 2, 100)\n",
    "y = x\n",
    "X, Y = np.meshgrid(x, y)\n",
    "\n",
    "ax.plot_surface(X, Y, f(X, Y))\n",
    "ax.plot([x_c], [y_c], [f(x_c,y_c)], '*r')"
   ]
  },
  {
   "cell_type": "markdown",
   "metadata": {},
   "source": [
    "# Anuncios parroquiales\n",
    "\n",
    "## 1. [Curso gratis sugerido](https://www.kaggle.com/learn/python)\n",
    "\n",
    "## 2. La próxima clase hay quiz (clases 1 y 2 - lo que hemos visto)."
   ]
  },
  {
   "cell_type": "markdown",
   "metadata": {},
   "source": [
    "<script>\n",
    "  $(document).ready(function(){\n",
    "    $('div.prompt').hide();\n",
    "    $('div.back-to-top').hide();\n",
    "    $('nav#menubar').hide();\n",
    "    $('.breadcrumb').hide();\n",
    "    $('.hidden-print').hide();\n",
    "  });\n",
    "</script>\n",
    "\n",
    "<footer id=\"attribution\" style=\"float:right; color:#808080; background:#fff;\">\n",
    "Created with Jupyter by Esteban Jiménez Rodríguez.\n",
    "</footer>"
   ]
  }
 ],
 "metadata": {
  "kernelspec": {
   "display_name": "Python 3",
   "language": "python",
   "name": "python3"
  },
  "language_info": {
   "codemirror_mode": {
    "name": "ipython",
    "version": 3
   },
   "file_extension": ".py",
   "mimetype": "text/x-python",
   "name": "python",
   "nbconvert_exporter": "python",
   "pygments_lexer": "ipython3",
   "version": "3.7.6"
  }
 },
 "nbformat": 4,
 "nbformat_minor": 2
}
